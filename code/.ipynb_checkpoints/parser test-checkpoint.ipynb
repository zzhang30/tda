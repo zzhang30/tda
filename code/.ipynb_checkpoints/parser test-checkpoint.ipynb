{
 "cells": [
  {
   "cell_type": "code",
   "execution_count": 1,
   "metadata": {},
   "outputs": [],
   "source": [
    "import tree_sitter_java as tsjava\n",
    "from tree_sitter import Language, Parser"
   ]
  },
  {
   "cell_type": "code",
   "execution_count": 2,
   "metadata": {},
   "outputs": [],
   "source": [
    "JAVA_LANGUAGE  = Language(tsjava.language())\n",
    "parser = Parser(JAVA_LANGUAGE)"
   ]
  },
  {
   "cell_type": "code",
   "execution_count": 3,
   "metadata": {},
   "outputs": [],
   "source": [
    "java_code = \"\"\"\n",
    "public class Example {\n",
    "    public int add(int a, int b) {\n",
    "        return a + b;\n",
    "    }\n",
    "}\n",
    "\"\"\""
   ]
  },
  {
   "cell_type": "code",
   "execution_count": 7,
   "metadata": {},
   "outputs": [],
   "source": [
    "def parse_all_java_code(code):\n",
    "    # Parse the code to get the syntax tree\n",
    "    tree = parser.parse(code)\n",
    "    root_node = tree.root_node\n",
    "\n",
    "    # Extract tokens by traversing the syntax tree\n",
    "    tokens = extract_all_class(root_node, code)\n",
    "    return tokens\n",
    "\n",
    "def extract_all_tokens(node, code):\n",
    "    tokens = []\n",
    "\n",
    "    # Capture the text of every node, regardless of whether it’s named or not\n",
    "    if len(node.children) == 0:  # This check ensures we only take leaf nodes (individual tokens)\n",
    "        token_text = code[node.start_byte:node.end_byte].decode('utf8')\n",
    "        tokens.append(token_text)\n",
    "\n",
    "    # Recursively process child nodes\n",
    "    for child in node.children:\n",
    "        tokens.extend(extract_all_tokens(child, code))\n",
    "\n",
    "    return tokens\n",
    "\n",
    "def extract_all_class(node, code):\n",
    "    classes = []\n",
    "\n",
    "    # Capture the text of every node, regardless of whether it’s named or not\n",
    "    if node.type == \"class_declaration\":\n",
    "        classes.append(code[node.start_byte:node.end_byte].decode('utf8'))  # This check ensures we only take leaf nodes (individual tokens)\n",
    "\n",
    "    # Recursively process child nodes\n",
    "    for child in node.children:\n",
    "        classes.extend(extract_all_class(child, code))\n",
    "\n",
    "    return classes\n",
    "\n"
   ]
  },
  {
   "cell_type": "code",
   "execution_count": 8,
   "metadata": {},
   "outputs": [
    {
     "name": "stdout",
     "output_type": "stream",
     "text": [
      "public class Example {\n",
      "    public int add(int a, int b) {\n",
      "        return a + b;\n",
      "    }\n",
      "}\n"
     ]
    }
   ],
   "source": [
    "# Parse the Java code and print out tokens\n",
    "tokens = parse_all_java_code(bytes(java_code, \"utf8\"))\n",
    "for token in tokens:\n",
    "    print(token)"
   ]
  },
  {
   "cell_type": "code",
   "execution_count": 9,
   "metadata": {},
   "outputs": [
    {
     "data": {
      "text/plain": [
       "str"
      ]
     },
     "execution_count": 9,
     "metadata": {},
     "output_type": "execute_result"
    }
   ],
   "source": [
    "type(token)"
   ]
  },
  {
   "cell_type": "code",
   "execution_count": 10,
   "metadata": {},
   "outputs": [
    {
     "data": {
      "text/plain": [
       "87"
      ]
     },
     "execution_count": 10,
     "metadata": {},
     "output_type": "execute_result"
    }
   ],
   "source": [
    "len(token)"
   ]
  },
  {
   "cell_type": "code",
   "execution_count": 11,
   "metadata": {},
   "outputs": [
    {
     "data": {
      "text/plain": [
       "str"
      ]
     },
     "execution_count": 11,
     "metadata": {},
     "output_type": "execute_result"
    }
   ],
   "source": [
    "type(java_code)"
   ]
  },
  {
   "cell_type": "code",
   "execution_count": 12,
   "metadata": {},
   "outputs": [
    {
     "data": {
      "text/plain": [
       "89"
      ]
     },
     "execution_count": 12,
     "metadata": {},
     "output_type": "execute_result"
    }
   ],
   "source": [
    "len(java_code)"
   ]
  },
  {
   "cell_type": "code",
   "execution_count": 13,
   "metadata": {},
   "outputs": [
    {
     "name": "stderr",
     "output_type": "stream",
     "text": [
      "/home/zzhang30/.conda/envs/tda/lib/python3.10/site-packages/tqdm/auto.py:21: TqdmWarning: IProgress not found. Please update jupyter and ipywidgets. See https://ipywidgets.readthedocs.io/en/stable/user_install.html\n",
      "  from .autonotebook import tqdm as notebook_tqdm\n",
      "\n",
      "A module that was compiled using NumPy 1.x cannot be run in\n",
      "NumPy 2.1.3 as it may crash. To support both 1.x and 2.x\n",
      "versions of NumPy, modules must be compiled with NumPy 2.0.\n",
      "Some module may need to rebuild instead e.g. with 'pybind11>=2.12'.\n",
      "\n",
      "If you are a user of the module, the easiest solution will be to\n",
      "downgrade to 'numpy<2' or try to upgrade the affected module.\n",
      "We expect that some modules will need time to support NumPy 2.\n",
      "\n",
      "Traceback (most recent call last):  File \"/home/zzhang30/.conda/envs/tda/lib/python3.10/runpy.py\", line 196, in _run_module_as_main\n",
      "    return _run_code(code, main_globals, None,\n",
      "  File \"/home/zzhang30/.conda/envs/tda/lib/python3.10/runpy.py\", line 86, in _run_code\n",
      "    exec(code, run_globals)\n",
      "  File \"/home/zzhang30/.conda/envs/tda/lib/python3.10/site-packages/ipykernel_launcher.py\", line 18, in <module>\n",
      "    app.launch_new_instance()\n",
      "  File \"/home/zzhang30/.conda/envs/tda/lib/python3.10/site-packages/traitlets/config/application.py\", line 1075, in launch_instance\n",
      "    app.start()\n",
      "  File \"/home/zzhang30/.conda/envs/tda/lib/python3.10/site-packages/ipykernel/kernelapp.py\", line 739, in start\n",
      "    self.io_loop.start()\n",
      "  File \"/home/zzhang30/.conda/envs/tda/lib/python3.10/site-packages/tornado/platform/asyncio.py\", line 199, in start\n",
      "    self.asyncio_loop.run_forever()\n",
      "  File \"/home/zzhang30/.conda/envs/tda/lib/python3.10/asyncio/base_events.py\", line 600, in run_forever\n",
      "    self._run_once()\n",
      "  File \"/home/zzhang30/.conda/envs/tda/lib/python3.10/asyncio/base_events.py\", line 1896, in _run_once\n",
      "    handle._run()\n",
      "  File \"/home/zzhang30/.conda/envs/tda/lib/python3.10/asyncio/events.py\", line 80, in _run\n",
      "    self._context.run(self._callback, *self._args)\n",
      "  File \"/home/zzhang30/.conda/envs/tda/lib/python3.10/site-packages/ipykernel/kernelbase.py\", line 545, in dispatch_queue\n",
      "    await self.process_one()\n",
      "  File \"/home/zzhang30/.conda/envs/tda/lib/python3.10/site-packages/ipykernel/kernelbase.py\", line 534, in process_one\n",
      "    await dispatch(*args)\n",
      "  File \"/home/zzhang30/.conda/envs/tda/lib/python3.10/site-packages/ipykernel/kernelbase.py\", line 437, in dispatch_shell\n",
      "    await result\n",
      "  File \"/home/zzhang30/.conda/envs/tda/lib/python3.10/site-packages/ipykernel/ipkernel.py\", line 362, in execute_request\n",
      "    await super().execute_request(stream, ident, parent)\n",
      "  File \"/home/zzhang30/.conda/envs/tda/lib/python3.10/site-packages/ipykernel/kernelbase.py\", line 778, in execute_request\n",
      "    reply_content = await reply_content\n",
      "  File \"/home/zzhang30/.conda/envs/tda/lib/python3.10/site-packages/ipykernel/ipkernel.py\", line 449, in do_execute\n",
      "    res = shell.run_cell(\n",
      "  File \"/home/zzhang30/.conda/envs/tda/lib/python3.10/site-packages/ipykernel/zmqshell.py\", line 549, in run_cell\n",
      "    return super().run_cell(*args, **kwargs)\n",
      "  File \"/home/zzhang30/.conda/envs/tda/lib/python3.10/site-packages/IPython/core/interactiveshell.py\", line 3075, in run_cell\n",
      "    result = self._run_cell(\n",
      "  File \"/home/zzhang30/.conda/envs/tda/lib/python3.10/site-packages/IPython/core/interactiveshell.py\", line 3130, in _run_cell\n",
      "    result = runner(coro)\n",
      "  File \"/home/zzhang30/.conda/envs/tda/lib/python3.10/site-packages/IPython/core/async_helpers.py\", line 128, in _pseudo_sync_runner\n",
      "    coro.send(None)\n",
      "  File \"/home/zzhang30/.conda/envs/tda/lib/python3.10/site-packages/IPython/core/interactiveshell.py\", line 3334, in run_cell_async\n",
      "    has_raised = await self.run_ast_nodes(code_ast.body, cell_name,\n",
      "  File \"/home/zzhang30/.conda/envs/tda/lib/python3.10/site-packages/IPython/core/interactiveshell.py\", line 3517, in run_ast_nodes\n",
      "    if await self.run_code(code, result, async_=asy):\n",
      "  File \"/home/zzhang30/.conda/envs/tda/lib/python3.10/site-packages/IPython/core/interactiveshell.py\", line 3577, in run_code\n",
      "    exec(code_obj, self.user_global_ns, self.user_ns)\n",
      "  File \"/tmp/ipykernel_2598197/2773115495.py\", line 2, in <module>\n",
      "    from unixcoder import UniXcoder\n",
      "  File \"/scratch/zzhang30/cs412/unixcoder.py\", line 6, in <module>\n",
      "    from transformers import RobertaTokenizer, RobertaModel, RobertaConfig\n",
      "  File \"/home/zzhang30/.conda/envs/tda/lib/python3.10/site-packages/transformers/utils/import_utils.py\", line 1767, in __getattr__\n",
      "    value = getattr(module, name)\n",
      "  File \"/home/zzhang30/.conda/envs/tda/lib/python3.10/site-packages/transformers/utils/import_utils.py\", line 1766, in __getattr__\n",
      "    module = self._get_module(self._class_to_module[name])\n",
      "  File \"/home/zzhang30/.conda/envs/tda/lib/python3.10/site-packages/transformers/utils/import_utils.py\", line 1778, in _get_module\n",
      "    return importlib.import_module(\".\" + module_name, self.__name__)\n",
      "  File \"/home/zzhang30/.conda/envs/tda/lib/python3.10/importlib/__init__.py\", line 126, in import_module\n",
      "    return _bootstrap._gcd_import(name[level:], package, level)\n",
      "  File \"/home/zzhang30/.conda/envs/tda/lib/python3.10/site-packages/transformers/models/roberta/modeling_roberta.py\", line 28, in <module>\n",
      "    from ...generation import GenerationMixin\n",
      "  File \"/home/zzhang30/.conda/envs/tda/lib/python3.10/site-packages/transformers/utils/import_utils.py\", line 1766, in __getattr__\n",
      "    module = self._get_module(self._class_to_module[name])\n",
      "  File \"/home/zzhang30/.conda/envs/tda/lib/python3.10/site-packages/transformers/utils/import_utils.py\", line 1778, in _get_module\n",
      "    return importlib.import_module(\".\" + module_name, self.__name__)\n",
      "  File \"/home/zzhang30/.conda/envs/tda/lib/python3.10/importlib/__init__.py\", line 126, in import_module\n",
      "    return _bootstrap._gcd_import(name[level:], package, level)\n",
      "  File \"/home/zzhang30/.conda/envs/tda/lib/python3.10/site-packages/transformers/generation/utils.py\", line 28, in <module>\n",
      "    from ..cache_utils import (\n",
      "  File \"/home/zzhang30/.conda/envs/tda/lib/python3.10/site-packages/transformers/cache_utils.py\", line 1853, in <module>\n",
      "    class OffloadedStaticCache(StaticCache):\n",
      "  File \"/home/zzhang30/.conda/envs/tda/lib/python3.10/site-packages/transformers/cache_utils.py\", line 1918, in OffloadedStaticCache\n",
      "    offload_device: Union[str, torch.device] = torch.device(\"cpu\"),\n",
      "/home/zzhang30/.conda/envs/tda/lib/python3.10/site-packages/transformers/cache_utils.py:1918: UserWarning: Failed to initialize NumPy: _ARRAY_API not found (Triggered internally at /opt/conda/conda-bld/pytorch_1682343904639/work/torch/csrc/utils/tensor_numpy.cpp:84.)\n",
      "  offload_device: Union[str, torch.device] = torch.device(\"cpu\"),\n",
      "/home/zzhang30/.conda/envs/tda/lib/python3.10/site-packages/torchvision/datapoints/__init__.py:12: UserWarning: The torchvision.datapoints and torchvision.transforms.v2 namespaces are still Beta. While we do not expect major breaking changes, some APIs may still change according to user feedback. Please submit any feedback you may have in this issue: https://github.com/pytorch/vision/issues/6753, and you can also check out https://github.com/pytorch/vision/issues/7319 to learn more about the APIs that we suspect might involve future changes. You can silence this warning by calling torchvision.disable_beta_transforms_warning().\n",
      "  warnings.warn(_BETA_TRANSFORMS_WARNING)\n",
      "/home/zzhang30/.conda/envs/tda/lib/python3.10/site-packages/torchvision/transforms/v2/__init__.py:54: UserWarning: The torchvision.datapoints and torchvision.transforms.v2 namespaces are still Beta. While we do not expect major breaking changes, some APIs may still change according to user feedback. Please submit any feedback you may have in this issue: https://github.com/pytorch/vision/issues/6753, and you can also check out https://github.com/pytorch/vision/issues/7319 to learn more about the APIs that we suspect might involve future changes. You can silence this warning by calling torchvision.disable_beta_transforms_warning().\n",
      "  warnings.warn(_BETA_TRANSFORMS_WARNING)\n",
      "/home/zzhang30/.conda/envs/tda/lib/python3.10/site-packages/torch/_utils.py:776: UserWarning: TypedStorage is deprecated. It will be removed in the future and UntypedStorage will be the only storage class. This should only matter to you if you are using storages directly.  To access UntypedStorage directly, use tensor.untyped_storage() instead of tensor.storage()\n",
      "  return self.fget.__get__(instance, owner)()\n"
     ]
    },
    {
     "data": {
      "text/plain": [
       "UniXcoder(\n",
       "  (model): RobertaModel(\n",
       "    (embeddings): RobertaEmbeddings(\n",
       "      (word_embeddings): Embedding(51416, 768, padding_idx=1)\n",
       "      (position_embeddings): Embedding(1026, 768, padding_idx=1)\n",
       "      (token_type_embeddings): Embedding(10, 768)\n",
       "      (LayerNorm): LayerNorm((768,), eps=1e-05, elementwise_affine=True)\n",
       "      (dropout): Dropout(p=0.1, inplace=False)\n",
       "    )\n",
       "    (encoder): RobertaEncoder(\n",
       "      (layer): ModuleList(\n",
       "        (0-11): 12 x RobertaLayer(\n",
       "          (attention): RobertaAttention(\n",
       "            (self): RobertaSelfAttention(\n",
       "              (query): Linear(in_features=768, out_features=768, bias=True)\n",
       "              (key): Linear(in_features=768, out_features=768, bias=True)\n",
       "              (value): Linear(in_features=768, out_features=768, bias=True)\n",
       "              (dropout): Dropout(p=0.1, inplace=False)\n",
       "            )\n",
       "            (output): RobertaSelfOutput(\n",
       "              (dense): Linear(in_features=768, out_features=768, bias=True)\n",
       "              (LayerNorm): LayerNorm((768,), eps=1e-05, elementwise_affine=True)\n",
       "              (dropout): Dropout(p=0.1, inplace=False)\n",
       "            )\n",
       "          )\n",
       "          (intermediate): RobertaIntermediate(\n",
       "            (dense): Linear(in_features=768, out_features=3072, bias=True)\n",
       "            (intermediate_act_fn): GELUActivation()\n",
       "          )\n",
       "          (output): RobertaOutput(\n",
       "            (dense): Linear(in_features=3072, out_features=768, bias=True)\n",
       "            (LayerNorm): LayerNorm((768,), eps=1e-05, elementwise_affine=True)\n",
       "            (dropout): Dropout(p=0.1, inplace=False)\n",
       "          )\n",
       "        )\n",
       "      )\n",
       "    )\n",
       "    (pooler): RobertaPooler(\n",
       "      (dense): Linear(in_features=768, out_features=768, bias=True)\n",
       "      (activation): Tanh()\n",
       "    )\n",
       "  )\n",
       "  (lm_head): Linear(in_features=768, out_features=51416, bias=False)\n",
       "  (lsm): LogSoftmax(dim=-1)\n",
       ")"
      ]
     },
     "execution_count": 13,
     "metadata": {},
     "output_type": "execute_result"
    }
   ],
   "source": [
    "import torch\n",
    "from unixcoder import UniXcoder\n",
    "\n",
    "device = torch.device(\"cuda\" if torch.cuda.is_available() else \"cpu\")\n",
    "model = UniXcoder(\"microsoft/unixcoder-base\")\n",
    "model.to(device)"
   ]
  },
  {
   "cell_type": "code",
   "execution_count": 14,
   "metadata": {},
   "outputs": [],
   "source": [
    "tokens_ids = model.tokenize([token],max_length=512,mode=\"<encoder-only>\")\n",
    "source_ids = torch.tensor(tokens_ids).to(device)\n",
    "tokens_embeddings,max_func_embedding = model(source_ids)"
   ]
  },
  {
   "cell_type": "code",
   "execution_count": 15,
   "metadata": {
    "collapsed": true,
    "jupyter": {
     "outputs_hidden": true
    }
   },
   "outputs": [
    {
     "name": "stdout",
     "output_type": "stream",
     "text": [
      "torch.Size([1, 768])\n",
      "tensor([[ 1.2696e+00, -2.3301e-01,  1.8232e+00, -4.4726e-01, -9.9912e-01,\n",
      "         -5.2362e-01,  2.3983e+00, -1.2501e+00,  1.3665e+00,  9.0616e-01,\n",
      "          1.8832e-01,  1.6184e+00, -6.1772e-01,  9.0358e-01, -2.1050e+00,\n",
      "          4.5995e+00, -1.7061e+00, -4.5903e-01,  7.2220e-01, -5.7143e-01,\n",
      "         -2.2592e+00, -4.4027e-01,  9.4130e-01, -9.7455e-01,  1.4747e-01,\n",
      "         -9.1937e-01, -3.7102e-01,  1.4971e+00, -3.8413e-01,  1.3043e+00,\n",
      "         -1.4114e+00, -1.7055e-01, -1.8694e-01, -8.6831e-01, -4.1051e-02,\n",
      "          2.2829e+00, -8.0621e-01, -1.6337e+00,  6.9517e-01, -1.6069e-02,\n",
      "          5.5674e-01, -1.5100e-01,  1.2971e+00,  1.5624e+00, -5.0009e-01,\n",
      "          6.8947e-01,  1.1770e+00,  1.8670e+00,  5.7725e-01, -1.2897e+00,\n",
      "         -1.6898e+00, -2.8330e-01,  2.3026e-01, -3.9383e-01, -4.6569e-01,\n",
      "         -1.1339e+00, -1.7961e+00, -5.9333e-01,  1.4201e+00, -5.4858e-01,\n",
      "          1.4784e+00,  2.3811e-02, -1.7851e+00,  2.1208e+00, -2.0515e+00,\n",
      "         -1.2704e-01,  5.8746e-01,  1.9043e+00,  3.3247e-01, -1.9255e-01,\n",
      "         -2.8029e-01, -7.2121e-01, -2.8072e+00, -4.2034e+00,  1.6285e+00,\n",
      "         -1.8314e+00, -1.9392e-01,  2.9423e+00, -1.4890e+00,  1.2140e+00,\n",
      "         -1.4259e+00, -4.1194e-02,  1.0577e+00, -3.6082e+00, -1.0818e+00,\n",
      "         -1.6125e+00, -1.3507e+00,  1.0608e+00, -2.2603e+00, -6.2475e-01,\n",
      "         -3.6042e-01,  2.0834e+00, -1.3070e+00, -1.4857e+00,  2.3289e-02,\n",
      "         -1.2345e+00,  1.6578e+00, -4.3775e-02, -3.9746e+00, -1.9160e+00,\n",
      "         -9.2176e-01, -3.3848e+00, -1.6742e+00, -1.0744e+00, -2.2524e+00,\n",
      "          2.1463e+00, -1.4351e+00, -9.0773e-02,  1.8867e+00,  3.0578e-01,\n",
      "          1.3492e-01,  1.0714e+00,  2.4314e-01,  2.7130e+00, -6.5228e-01,\n",
      "         -9.0464e-01,  7.1648e-01,  2.1584e+00,  2.3852e+00, -2.1654e+00,\n",
      "          1.1064e+00,  2.3012e+00,  7.9232e-01,  1.1603e+00, -6.6242e-01,\n",
      "          2.8002e+00, -1.0625e+00, -1.4124e+00, -1.1325e+00,  1.9942e+00,\n",
      "         -8.4884e-02,  6.3796e-01, -1.1657e+00, -8.5028e-01,  2.4425e+00,\n",
      "          1.1619e+00,  1.1527e+00, -6.6892e-01,  2.0407e+00, -5.1468e-01,\n",
      "         -1.2896e+00,  2.4726e+00,  7.4563e-01,  1.0888e+00, -1.3446e+00,\n",
      "          1.4728e+00, -9.4186e-01,  1.3596e+00,  1.4674e+00, -6.4580e-01,\n",
      "         -2.1560e+00, -1.4655e+00, -2.0993e+00, -1.7391e+00, -8.3466e-01,\n",
      "         -7.9249e-01, -1.4290e+00,  7.0037e-01,  9.7066e-01, -1.5359e+00,\n",
      "          1.2317e+00, -2.3418e+00, -1.0498e+00,  7.0961e-01,  1.0984e+00,\n",
      "          8.7089e-01, -9.5753e-01, -3.2396e+00,  4.3196e-01,  3.1129e+00,\n",
      "         -1.1524e+00,  1.1888e+00, -1.0905e+00,  3.2070e-01,  1.6416e+00,\n",
      "          2.4431e-02, -1.6077e+00, -1.5536e+00,  3.7680e+00, -4.8562e-01,\n",
      "         -9.8915e-02, -1.3965e-01,  4.4404e-01,  2.7495e-01, -1.1903e-01,\n",
      "          1.0569e+00,  8.4177e-01, -7.6202e-01,  1.0157e+00,  1.7362e-01,\n",
      "          1.4585e+00, -1.2682e+00,  1.2323e-01, -1.4816e+00, -1.3348e+00,\n",
      "         -9.0760e-01,  8.8797e-01,  2.3486e+00,  6.6342e-01,  3.7180e-01,\n",
      "          6.8558e-01, -8.4759e-01, -6.4218e-01, -1.3400e+00, -1.6057e+00,\n",
      "         -1.4167e+00,  3.0059e+00,  3.5551e-01, -1.0609e+00, -1.4367e+00,\n",
      "          7.7645e-01, -2.0111e+00,  1.8773e+00,  1.4645e+00, -9.5380e-01,\n",
      "          1.8963e-01, -1.0653e+00, -5.5532e-01,  6.4250e-01, -4.5465e-01,\n",
      "         -7.5188e-01, -6.2270e-01,  1.9796e+00,  1.4522e+00, -1.2083e+00,\n",
      "         -3.9655e+00,  1.4628e+00,  8.8287e-01,  9.7489e-03,  8.9294e-02,\n",
      "          1.4877e+00,  8.8614e-01, -6.1004e-01, -1.4946e+00,  7.9952e-01,\n",
      "         -8.3457e-01,  8.5413e-01,  2.2024e+00, -4.4484e-02,  9.1743e-01,\n",
      "         -1.8369e+00,  1.3505e+00,  4.3470e-01,  4.7230e-01,  2.2706e+00,\n",
      "         -1.1680e+00, -4.0234e-01,  1.3451e+00,  3.4363e+00, -9.0750e-01,\n",
      "          2.0939e+00, -7.0173e-01, -2.5919e-01,  8.1333e-03,  5.9717e-01,\n",
      "          3.1538e-01,  9.9016e-01, -3.3046e-01, -6.8038e-01,  7.4325e-01,\n",
      "         -1.3136e+00,  3.0762e+00, -7.8506e-01,  4.6681e+00, -1.4277e+00,\n",
      "          1.7249e+00,  1.2508e+00, -2.6316e-01,  1.2253e+00, -1.9807e+00,\n",
      "          1.4871e+00,  1.1395e+00, -2.3317e+00,  1.9470e+00, -1.9044e+00,\n",
      "          2.7964e+00,  1.8586e+00, -1.2844e+00, -2.0114e+00,  1.4868e+00,\n",
      "         -2.2411e-02, -3.1652e-01,  8.2358e-01,  5.9021e-01,  2.3509e+00,\n",
      "          1.6241e-01, -1.1870e+00, -8.2097e-01, -9.4807e-01,  1.6373e+00,\n",
      "          1.7447e-01, -3.2091e+00,  5.2636e-01, -1.0645e-01, -9.2809e-01,\n",
      "          1.4145e+00,  2.0267e+00, -1.3657e+00, -1.8580e+00,  1.7159e+00,\n",
      "          5.4841e-01,  2.1840e+00, -1.0522e-01,  5.9934e-01, -4.9428e-02,\n",
      "         -1.2256e+00, -1.6283e+00, -9.7438e-01, -9.8440e-01, -7.0386e-01,\n",
      "          1.7940e+00, -1.6872e+00, -1.0948e+00, -7.8805e-01, -8.8254e-01,\n",
      "          3.1639e+00, -2.7199e-01, -1.2086e+00, -5.0037e-02, -7.0204e-01,\n",
      "          1.1769e+00, -1.5802e+00, -2.3627e+00,  1.4709e+00,  1.7079e-01,\n",
      "          6.7365e-01, -1.9076e+00, -2.1382e+00, -7.1513e-01,  1.0070e+00,\n",
      "          3.1816e-01,  7.2249e-01,  2.1824e+00,  5.2758e-01, -4.3282e-01,\n",
      "          1.1013e+00, -2.2959e-01, -1.9013e-01, -2.2689e+00,  8.8608e-01,\n",
      "         -1.7172e+00,  2.3380e+00,  1.3432e+00,  2.0675e+00,  6.6360e-01,\n",
      "         -2.2796e+00,  1.6731e+00,  1.1270e+00,  7.5946e-01, -3.1167e-01,\n",
      "          2.7300e-01, -2.2879e+00,  1.9592e+00,  3.5214e-01,  2.9149e-02,\n",
      "          8.4553e-01,  1.3038e-01,  5.5409e-01,  6.9410e-01, -2.1088e+00,\n",
      "         -1.5882e+00, -9.4921e-01,  3.7376e+00,  1.5662e+00, -2.6159e-01,\n",
      "          6.7416e-01, -1.0483e+00, -3.3689e+00,  4.2153e+00, -3.9929e+00,\n",
      "          8.8068e-01,  1.2880e+00, -1.9434e-01, -1.2504e+00, -1.3750e+00,\n",
      "          3.6366e+00,  4.1139e-02,  1.7627e-01,  1.8136e+00, -4.4936e-01,\n",
      "          1.7569e+00,  3.8291e-01,  1.0441e+00, -2.0847e+00, -1.3808e+00,\n",
      "         -1.1873e+00,  2.0509e+00, -1.0088e+00,  3.1623e+00,  1.2220e+00,\n",
      "          1.5888e+00, -1.9529e+00,  1.4147e+00,  7.0307e-01, -1.3552e+00,\n",
      "         -6.5119e-01,  1.3129e+00, -2.7236e-01,  1.0875e+00,  3.5960e+00,\n",
      "          8.5717e-01, -1.7299e+00, -8.5874e-01, -1.3947e+00, -1.2745e+00,\n",
      "          1.6846e+00,  2.0730e+00,  3.5907e-01,  3.4160e+00, -7.8450e-01,\n",
      "         -2.7167e+00,  1.6043e-01,  4.7863e-01, -4.6845e-01, -2.5473e+00,\n",
      "         -1.9851e+00,  1.2451e+00, -4.8200e-02, -2.3596e+00,  3.4956e+00,\n",
      "          2.5349e+00,  1.0631e+00,  1.8924e+00, -1.2728e+00,  5.8685e+00,\n",
      "          6.5906e-01, -2.1719e+00, -6.4499e-01,  9.5731e-01, -1.6591e+00,\n",
      "         -6.5453e-01, -9.3530e-02, -1.6080e+00, -5.4022e-01,  1.3678e+00,\n",
      "         -9.4447e-02, -1.3881e+00,  4.7264e-01,  2.3895e-01,  2.7555e-01,\n",
      "         -1.5314e+00, -2.9276e+00, -8.8728e-01,  3.4406e-01, -8.1374e-01,\n",
      "         -6.5733e-01,  1.0560e+00,  1.3703e+00, -2.7465e+00, -5.2564e-01,\n",
      "          1.6537e+00, -1.1516e-01,  6.3928e-02,  3.1620e+00, -3.1868e-01,\n",
      "         -3.3328e-01, -4.5262e-01,  3.7016e-03, -2.9994e+00, -5.6562e-01,\n",
      "         -2.5429e-01,  3.4703e-01, -3.8740e-01,  1.3257e-01,  4.5361e-01,\n",
      "         -2.0214e+00, -1.7280e-01, -2.6253e+00, -1.6737e+00,  1.6471e+00,\n",
      "         -1.2086e+00,  3.3281e-01, -1.6738e+00,  2.7309e+00, -3.2176e-01,\n",
      "          1.4595e+00,  4.7556e-02, -1.6679e+00, -2.9313e+00,  3.1388e-01,\n",
      "          8.6287e-01, -2.4701e+00,  1.5645e-01,  1.9646e-01,  4.4141e-01,\n",
      "          9.4437e-01,  1.9592e+00, -1.0086e+00,  3.1724e-01, -1.3415e+00,\n",
      "         -6.4819e-01, -3.5114e-02, -2.2755e-01,  1.2651e+00,  1.2015e+00,\n",
      "          1.6567e+00,  1.2890e+00,  1.2175e+00, -5.5780e-02, -9.6450e-01,\n",
      "          3.0244e+00, -1.0465e+00, -1.9324e+00,  1.2555e+00,  5.6000e-01,\n",
      "          1.3794e+00, -2.1033e+00, -5.8995e-01,  1.1559e-01,  3.4563e+00,\n",
      "          3.5193e-01,  7.4575e-01,  8.1937e-01,  1.0646e+00,  1.7739e+00,\n",
      "         -1.3171e-01, -1.0407e+00,  3.2165e+00,  1.1627e-01, -4.5962e-01,\n",
      "         -3.7600e-01,  6.0782e-01, -9.1151e-01, -1.4175e+00,  1.9220e+00,\n",
      "         -1.8671e-02, -7.0798e-01, -1.2752e+00, -8.6821e-02,  9.6149e-01,\n",
      "         -1.4178e+01,  3.6915e+00,  3.5121e-01,  4.7895e-01,  2.5130e+00,\n",
      "         -3.5050e-01,  8.0600e-01, -2.1574e+00, -1.1657e+00, -1.4261e+00,\n",
      "          2.5898e-01, -4.0769e-01,  1.3801e-01,  1.0345e-01, -1.1162e+00,\n",
      "         -1.7905e+00, -3.0352e+00, -2.4844e+00,  5.3419e-01, -3.3198e-01,\n",
      "          1.2740e+00,  7.2575e-01,  1.3875e+00, -4.2081e-01, -4.3068e-01,\n",
      "          1.2568e+00, -2.1294e+00,  4.0515e-01,  1.5338e+00,  2.2018e-01,\n",
      "         -5.5330e-01, -7.1776e-01,  2.6858e+00,  2.9080e+00,  5.7018e-01,\n",
      "         -1.7005e+00, -1.5901e+00, -1.9494e-01, -3.8131e-01, -1.0774e+00,\n",
      "          5.7995e-01, -2.0335e-01, -1.8954e+00,  4.5849e-01,  2.4663e+00,\n",
      "         -8.9454e-01, -4.2519e-01,  1.6120e+00, -1.3168e+00, -2.1038e+00,\n",
      "         -3.1611e-01,  4.5154e-01,  1.6226e-01, -2.5822e+00,  7.2663e-01,\n",
      "          7.5480e-01, -2.1930e-01, -7.6567e-01, -9.5330e-01,  8.0319e-01,\n",
      "          1.4458e-01,  1.0242e+00, -2.0592e+00, -1.1490e+00,  1.5710e-01,\n",
      "         -1.3005e+00,  1.1679e-02, -1.6808e+00,  5.0030e-01, -5.6810e-01,\n",
      "          1.4023e+00,  6.5685e-01,  1.7008e+00,  5.1972e-01,  8.9517e-01,\n",
      "          2.0632e+00, -4.0340e-01,  6.3992e-01,  7.0465e-01, -3.7050e+00,\n",
      "         -1.4758e+00, -7.1156e-01,  1.3019e+00, -1.0742e+00, -1.0795e+00,\n",
      "          1.5459e+00, -1.8851e+00, -1.1812e+00, -1.3282e+00,  1.2929e-01,\n",
      "         -4.3792e-01,  1.0164e+00, -9.7856e-01, -2.1872e+00,  2.3430e+00,\n",
      "         -1.1811e+00, -2.1323e+00, -2.5045e+00,  2.7006e+00,  9.1489e-01,\n",
      "          7.0950e-01,  2.9098e+00,  3.1760e-02, -5.4262e-02,  1.2786e+00,\n",
      "         -3.3844e+00,  5.2201e-01, -1.7764e+00,  8.0455e-01,  6.5217e-01,\n",
      "          7.4345e-02, -1.0749e+00,  2.0974e-01, -1.9731e+00,  2.3566e+00,\n",
      "          1.6354e-01, -9.1477e-01,  3.2487e+00, -4.0914e-01,  2.2520e+00,\n",
      "         -3.0261e+00,  3.6073e+00,  1.3471e+00,  7.6557e-01,  3.9616e-02,\n",
      "         -1.5636e+00, -1.0519e+00, -1.5953e+00,  5.7916e-03, -9.9757e-03,\n",
      "         -5.5173e-01, -3.0495e-01,  6.8546e-01,  1.6792e+00,  3.6417e+00,\n",
      "         -1.1350e+00, -1.2872e-01,  5.3503e-01,  6.2027e-01, -2.0153e+00,\n",
      "         -3.2707e-02, -1.6361e+00, -1.1589e+00, -2.3738e+00, -1.6206e+00,\n",
      "          2.6051e+00, -8.9410e-01,  1.1480e+00, -4.1818e-02,  1.3838e+00,\n",
      "         -4.6485e-01,  1.2280e+00,  5.9471e-01, -1.2689e+00,  3.4813e-01,\n",
      "          1.5858e+00, -1.2824e-01,  2.1919e+00,  5.9589e-01,  1.6448e+00,\n",
      "          1.2356e-01, -2.7615e+00, -9.4471e-01, -3.7467e+00,  2.0381e+00,\n",
      "         -1.6425e+00,  1.1267e+00,  1.0606e+00, -3.7175e-01, -4.1247e-02,\n",
      "          1.0209e+00,  1.3675e+00, -3.7342e-01,  2.7993e+00,  3.3163e+00,\n",
      "          1.4509e+00,  3.8978e-01, -1.8906e+00,  2.1540e+00, -2.0787e+00,\n",
      "         -3.3983e+00, -6.4825e-01, -2.2781e+00,  1.2208e+00, -1.6249e+00,\n",
      "          5.5679e-01,  1.5918e+00,  1.2439e+00, -1.6988e-01, -3.5339e+00,\n",
      "         -2.0048e-01, -9.1425e-01,  1.6575e+00, -6.1676e-01, -9.6269e-01,\n",
      "          4.7475e-01,  1.9063e+00, -1.4844e-02, -2.4096e-02, -1.4906e+00,\n",
      "          1.0403e+00, -1.4862e-01, -9.3681e-02, -1.8033e+00, -1.5219e+00,\n",
      "         -3.9421e-01,  2.5623e+00, -2.1108e+00, -7.3901e-01, -1.6411e+00,\n",
      "         -9.7059e-01,  1.7702e+00,  1.6815e+00,  1.7384e+00, -1.9097e-01,\n",
      "          5.4776e-01, -2.6351e-02, -5.9492e-01,  1.3596e+00, -9.6405e-01,\n",
      "          3.9707e-01, -1.4202e+00,  4.5467e+00,  5.6662e-03,  1.1318e+00,\n",
      "         -1.8436e+00, -8.4036e-01,  2.0319e-01, -2.3831e-01,  4.1897e-01,\n",
      "          1.9531e+00, -7.7144e-01,  5.1641e-01,  4.1890e-01,  1.3274e-01,\n",
      "         -1.0618e+00, -1.6128e+00,  3.9446e-01]], grad_fn=<DivBackward0>)\n"
     ]
    }
   ],
   "source": [
    "print(max_func_embedding.shape)\n",
    "print(max_func_embedding)"
   ]
  },
  {
   "cell_type": "code",
   "execution_count": 16,
   "metadata": {},
   "outputs": [],
   "source": [
    "with open('ant-ivy/src/java/org/apache/ivy/Ivy.java', 'r') as f:\n",
    "    java_code = f.read()\n",
    "\n",
    "# Parse the code to get the syntax tree\n",
    "tree = parser.parse(bytes(java_code, \"utf8\"))\n",
    "root_node = tree.root_node"
   ]
  },
  {
   "cell_type": "code",
   "execution_count": 17,
   "metadata": {},
   "outputs": [],
   "source": [
    "def extract_code_fragments(node, code, level: str):\n",
    "    fragments = []\n",
    "    if level == \"class\" and node.type == \"class_declaration\":\n",
    "        fragments.append(code[node.start_byte:node.end_byte].decode('utf8'))\n",
    "    elif level == \"method\" and node.type == \"method_declaration\":\n",
    "        fragments.append(code[node.start_byte:node.end_byte].decode('utf8'))\n",
    "    elif level == \"token\" and len(node.children) == 0 and (node.type != 'block_comment' and node.type != 'line_comment'):\n",
    "        fragments.append(code[node.start_byte:node.end_byte].decode('utf8'))\n",
    "    \n",
    "    for child in node.children:\n",
    "        fragments.extend(extract_code_fragments(child, code, level))\n",
    "    \n",
    "    return fragments"
   ]
  },
  {
   "cell_type": "code",
   "execution_count": 19,
   "metadata": {},
   "outputs": [],
   "source": [
    "frag = extract_code_fragments(root_node, bytes(java_code, \"utf8\"), level = \"class\")"
   ]
  },
  {
   "cell_type": "code",
   "execution_count": 20,
   "metadata": {},
   "outputs": [
    {
     "data": {
      "text/plain": [
       "1"
      ]
     },
     "execution_count": 20,
     "metadata": {},
     "output_type": "execute_result"
    }
   ],
   "source": [
    "len(frag)"
   ]
  },
  {
   "cell_type": "code",
   "execution_count": 21,
   "metadata": {},
   "outputs": [
    {
     "name": "stdout",
     "output_type": "stream",
     "text": [
      "torch.Size([1, 768])\n",
      "tensor([[-2.4892e-01,  3.1219e+00,  2.7004e+00,  1.2355e+00,  2.1337e+00,\n",
      "          4.7657e-01, -1.4245e+00,  4.8459e-01,  8.9200e-01,  6.8004e-02,\n",
      "         -1.5642e-01,  1.7327e-01, -6.2941e-01, -1.3353e+00, -3.0683e+00,\n",
      "          3.7050e-01,  2.2509e+00,  1.9055e+00, -6.7900e-01,  1.8871e+00,\n",
      "          4.9967e-01,  1.1181e+00,  7.5263e-01, -1.1676e+00, -1.0094e+00,\n",
      "          1.7055e+00, -4.0090e-01,  1.1298e+00, -7.9223e-01, -8.5194e-01,\n",
      "          5.8504e-01, -1.6198e+00,  1.0759e+00, -1.6877e+00,  1.1285e-01,\n",
      "          1.1941e+00,  7.3064e-01, -3.4761e-01, -1.8249e+00,  1.0853e+00,\n",
      "          1.8725e+00,  3.1203e-02, -8.3108e-01,  1.0319e+00,  8.9844e-01,\n",
      "         -2.3439e-01,  2.5451e-01, -2.0299e+00, -6.8937e-01, -5.2779e-01,\n",
      "         -1.9567e+00,  1.0081e+00,  4.1833e-01,  4.7369e-01, -2.6472e-01,\n",
      "          3.1131e-01, -3.6007e-01, -3.5514e+00,  3.9939e+00,  1.1234e+00,\n",
      "         -1.4195e+00, -4.0785e-01,  3.6380e-01, -6.5640e-01,  1.0852e+00,\n",
      "          9.4433e-01,  1.2013e+00, -6.4994e-01,  1.9982e-01, -7.4628e-01,\n",
      "          2.7976e+00, -1.2014e+00,  2.1438e-01,  4.8183e-01,  5.9921e-02,\n",
      "          1.6318e+00,  4.2503e-02, -1.2000e-01, -6.5670e-01,  2.0257e+00,\n",
      "          9.4925e-01,  8.4705e-01,  6.2241e-01,  3.9206e-01,  1.2718e+00,\n",
      "         -1.5567e+00,  1.0219e+00,  1.8232e+00,  2.0514e-01,  1.7774e+00,\n",
      "          4.5632e-01, -1.4284e+00, -2.4554e+00,  1.3909e+00, -1.3237e+00,\n",
      "          1.6156e-01, -9.5613e-01,  2.0189e+00,  9.0522e-01, -1.7787e+00,\n",
      "         -2.3439e+00, -9.0251e-01, -3.5600e-01,  8.9057e-01, -6.5892e-01,\n",
      "          8.4051e-01, -6.4499e-01,  5.4017e-01, -2.3141e-02,  4.6336e-01,\n",
      "         -9.2935e-01,  3.6650e-01,  3.2339e+00,  4.3133e-01,  2.0494e+00,\n",
      "         -1.3821e+00, -2.0955e+00, -1.6049e-01,  2.0136e-02,  1.3304e-01,\n",
      "         -8.1995e-03,  1.6468e+00, -1.0471e+00,  1.1635e+00,  8.9686e-01,\n",
      "         -1.0115e+00,  2.5442e+00, -7.9114e-01,  1.4686e+00, -1.1090e+00,\n",
      "          6.2606e-01,  2.9904e-01,  1.1741e+00,  1.1551e+00,  1.2212e+00,\n",
      "         -3.5914e+00,  1.6185e+00,  1.4059e+00, -1.7156e+00,  9.0011e-01,\n",
      "         -7.0233e-01, -6.0464e-01, -2.5180e+00,  9.2781e-01, -4.3239e-02,\n",
      "         -7.3598e-01,  1.1278e+00,  1.4694e+00,  7.3830e-01, -3.6363e-01,\n",
      "         -9.8960e-02,  2.0567e+00,  1.7739e+00,  6.8710e-01,  7.2113e-01,\n",
      "         -9.9865e-01,  4.5880e-02,  8.4432e-01,  4.3473e-01, -1.1697e-02,\n",
      "         -1.1554e+00,  4.7272e-01,  7.3133e-02, -1.8453e-02,  2.0253e+00,\n",
      "         -1.3876e+00,  6.7207e-01, -7.0219e-01,  5.6845e-01,  2.7742e+00,\n",
      "          1.2746e+00,  3.2250e-01, -1.3458e+00,  2.5640e-01, -4.2301e+00,\n",
      "          2.6892e+00,  1.3435e+00, -1.2754e+00, -6.5725e-01,  2.0389e+00,\n",
      "         -1.1416e+00,  7.1830e-02, -4.1509e-01, -1.0824e+00, -3.3375e+00,\n",
      "          1.5953e-01,  2.1967e+00, -2.1086e+00, -1.8654e+00, -1.9299e+00,\n",
      "          1.7019e+00, -6.8842e-01, -4.4898e-01,  1.5432e+00,  1.9145e-01,\n",
      "         -7.2211e-01,  2.2761e+00,  7.2752e-01, -2.1074e+00,  1.4722e-02,\n",
      "          7.1016e-02, -9.2827e-01, -7.2895e-01,  2.5980e+00, -1.0201e+00,\n",
      "         -1.4420e+00,  2.4741e-02, -1.2037e+00,  1.3522e-01,  1.6676e+00,\n",
      "          6.5941e-01, -4.2897e-01,  2.2466e-01,  3.2243e+00,  9.1331e-01,\n",
      "          1.0063e+00, -1.2220e+00, -6.9355e-02, -1.2432e-01, -5.4894e-01,\n",
      "         -2.0376e-01, -6.1775e-02, -1.5462e+00, -2.0560e+00, -1.1069e+00,\n",
      "          4.1970e-01,  1.5529e+00, -3.2629e-01, -4.9539e-01, -2.7745e-01,\n",
      "          1.5924e+00, -1.6616e+00,  8.3286e-01, -1.8295e+00, -6.0430e-01,\n",
      "         -1.4264e+00,  2.1359e-01,  7.9635e-01,  4.0684e-01,  1.6586e+00,\n",
      "         -2.2692e-01,  3.0581e-01,  7.3331e-01, -9.5385e-01, -2.0834e+00,\n",
      "         -9.8371e-01, -2.1128e-01,  1.5957e+00,  3.0511e+00,  1.5796e+00,\n",
      "         -2.1231e-01, -1.9994e+00,  9.1490e-01, -6.6527e-01, -1.3657e+00,\n",
      "          4.6760e-01, -2.8970e-01, -1.4408e+00, -6.1836e-01,  5.2552e-01,\n",
      "         -9.0869e-01,  3.4944e-01,  5.0141e-01,  8.5513e-01, -2.6646e-01,\n",
      "          2.9629e-01, -1.7837e+00,  2.2517e+00, -1.6596e+00, -6.6465e-01,\n",
      "          1.0446e+00,  4.3765e-01, -1.4682e-01, -6.2087e-01, -6.5699e-01,\n",
      "         -2.0155e+00,  1.0890e+00,  5.6375e-01, -1.8868e+00,  9.4425e-01,\n",
      "         -4.4616e-01,  1.3904e+00,  4.2259e-01,  8.6305e-01, -2.3987e+00,\n",
      "          4.4401e-01,  3.2151e-01,  2.8225e+00, -2.6101e-01,  1.7124e+00,\n",
      "          2.3061e+00, -1.4316e-01, -1.6794e+00, -3.0768e+00,  1.4624e+00,\n",
      "          3.1230e-01, -4.1445e-01,  1.4916e+00, -7.8424e-01,  1.8136e+00,\n",
      "         -1.0700e+00, -1.3214e+00,  7.0599e-01, -5.5743e-01,  1.3254e+00,\n",
      "         -1.2829e+00,  1.7071e-01,  2.1986e+00,  9.9632e-01,  1.2114e+00,\n",
      "         -2.6691e-01, -4.5915e-01, -1.5468e-01,  3.5859e-01,  3.9553e-01,\n",
      "          1.4795e-02, -5.7011e-01, -7.0011e-01, -1.2537e+00, -1.3416e+00,\n",
      "         -9.9780e-01, -2.1308e+00,  1.9354e+00, -1.1107e+00, -9.5354e-01,\n",
      "          9.4820e-02,  8.6765e-01,  2.4825e+00,  1.3394e+00,  2.4458e+00,\n",
      "         -8.8707e-01, -1.2069e-01, -9.6101e-01,  1.6743e+00,  1.3486e-01,\n",
      "          9.4115e-01, -1.2511e+00, -2.6203e+00,  9.9625e-01,  3.3357e-01,\n",
      "         -1.6924e+00, -2.0886e+00, -1.2877e-01, -9.4737e-01, -4.3447e-01,\n",
      "         -1.5054e+00, -8.7467e-01,  1.5481e+00, -1.4620e-02, -4.5568e-01,\n",
      "          1.1495e+00, -1.9548e+00,  1.9135e+00, -1.7787e+00,  1.2374e+00,\n",
      "          7.4994e-01, -9.0558e-01,  1.5000e+00, -4.0413e-02,  3.3701e+00,\n",
      "         -4.7379e-01, -3.0530e+00,  1.1056e+00, -1.3305e+00, -2.0262e+00,\n",
      "         -1.9461e+00, -3.7547e-01,  1.5960e-01,  6.2178e-01, -1.4646e+00,\n",
      "          9.5800e-01,  1.2691e+00, -6.9858e-04, -9.6248e-02,  8.8773e-01,\n",
      "          2.8906e+00,  9.1566e-01,  7.4457e-01,  6.3437e-01,  4.1702e-01,\n",
      "          6.3019e-01,  5.1566e-01,  3.1634e-02,  1.1393e+00,  8.8265e-01,\n",
      "          7.7006e-01,  1.6528e+00, -3.9359e-01,  1.1597e+00, -2.0471e-01,\n",
      "          5.1338e-01, -1.2095e+00,  9.7564e-03, -8.5949e-01, -8.0312e-01,\n",
      "          1.2482e-01,  1.8851e+00, -3.9537e-01,  9.6751e-01,  1.6265e+00,\n",
      "         -5.0085e-01,  2.0949e+00, -8.0063e-01,  2.8994e-01, -7.7881e-01,\n",
      "          8.6691e-01, -1.0117e+00, -1.0944e+00,  2.0084e+00, -1.0548e+00,\n",
      "          2.9663e-01,  1.5385e-01,  1.4211e+00, -1.2658e+00, -5.2507e-01,\n",
      "         -8.3358e-01, -7.8390e-01, -1.1751e+00, -3.1702e-01, -2.2568e+00,\n",
      "          2.3991e-01, -6.9664e-01, -2.2288e+00,  1.5881e-01, -1.3265e+00,\n",
      "          9.1304e-01,  1.0671e+00, -2.4151e+00,  8.1503e-01, -7.6848e-01,\n",
      "          1.6223e+00,  1.3663e+00, -7.6879e-01,  4.4075e-02, -1.3474e+00,\n",
      "         -7.7862e-01,  9.7665e-01,  8.0387e-01,  1.3986e+00, -1.0345e+00,\n",
      "          3.0733e-01, -1.0010e+00,  1.4786e+00,  8.2976e-01, -1.2368e+00,\n",
      "         -1.9591e-01, -4.6153e-01,  1.3531e+00, -9.6844e-02, -7.6282e-02,\n",
      "          2.6928e+00, -9.2820e-01, -8.1971e-02,  1.0931e+00,  5.9256e-01,\n",
      "          1.9763e+00,  6.4460e-01, -4.7132e-01,  6.3760e-01, -7.3924e-01,\n",
      "          4.0649e-01,  4.6159e+00,  6.1623e-01,  4.4921e-01,  1.9177e+00,\n",
      "          1.2082e+00,  4.3326e-01,  1.1109e+00, -4.4035e-01, -4.2981e-01,\n",
      "         -2.7314e+00, -1.9197e-01, -1.2230e+00, -2.7189e-01, -1.0655e-01,\n",
      "          5.9611e-01, -4.7264e-01, -1.6423e+00, -3.1213e+00,  6.6396e-01,\n",
      "         -4.0886e-01,  4.9794e-02, -2.1330e+00, -4.7757e-01,  5.9044e-01,\n",
      "          1.1499e+00,  7.4545e-01, -5.4049e-01, -3.8425e-01,  9.2099e-01,\n",
      "          3.0337e-01, -6.3684e-02,  5.1800e-01, -6.5433e-01,  1.4561e+00,\n",
      "         -1.3348e+00,  1.1853e+00, -4.7846e-01, -6.1810e-01, -2.7236e+00,\n",
      "         -7.1526e-02,  5.1910e-01, -1.4925e+00, -1.0673e+00,  9.9993e-01,\n",
      "         -8.7002e-01, -8.3093e-01,  2.6843e+00,  8.5511e-01, -2.9195e-01,\n",
      "         -4.7844e-02,  6.2125e-01, -2.3122e+00, -1.1291e+00,  1.2439e+00,\n",
      "          1.5673e+00,  1.3514e+00, -1.3529e+00,  1.2877e+00,  7.2490e-01,\n",
      "         -8.9685e-01, -2.3662e-01, -1.1019e+00,  2.3258e+00,  3.5103e-01,\n",
      "          3.7810e-01,  2.4600e+00, -4.9176e-01,  3.7550e-01, -2.4309e-01,\n",
      "         -1.3211e+01, -1.7155e-01,  2.7472e-01,  2.8866e+00,  4.9843e-01,\n",
      "          9.7577e-01,  1.3923e+00,  9.6171e-03, -5.4464e-03, -2.2342e-01,\n",
      "         -2.1516e+00, -1.6599e+00,  3.8816e-01,  3.4980e-01, -9.6778e-01,\n",
      "         -4.7566e+00,  5.1409e-01, -2.0922e-02, -3.5532e+00, -1.3468e+00,\n",
      "          7.9995e-01, -2.6502e-01, -3.8174e-01, -1.1933e+00,  4.5864e-01,\n",
      "          8.4445e-01, -4.8065e-01, -7.8081e-01,  4.5362e-01, -2.2593e-02,\n",
      "          8.8397e-01,  1.8000e+00,  6.3823e-01,  1.1447e+00,  8.3573e-01,\n",
      "         -1.3172e-01,  1.1796e+00, -1.0279e+00, -1.8981e+00, -5.5502e-01,\n",
      "          1.4924e+00,  4.6349e-01, -5.5114e-01,  3.2126e-01,  7.2251e-01,\n",
      "         -1.3728e+00,  5.9833e-01,  5.7850e-01,  9.8457e-01,  9.2377e-01,\n",
      "         -7.5148e-01,  9.8075e-01,  6.1917e-01,  1.2946e+00, -2.5441e+00,\n",
      "          5.0680e-01, -8.7067e-01, -5.5363e-01,  4.0414e-01, -6.6377e-01,\n",
      "          2.8065e+00, -4.1443e-01, -2.8536e+00,  9.8371e-01,  4.1460e-01,\n",
      "          9.7710e-02,  2.8496e-01,  8.2701e-01,  1.0808e+00, -3.8588e-01,\n",
      "         -1.9973e+00,  4.7714e-01,  1.9626e+00, -9.3962e-02, -3.4567e+00,\n",
      "          8.1418e-01,  1.6613e-01, -5.0063e-01, -6.4974e-02,  2.1947e+00,\n",
      "          8.7057e-01, -9.9787e-01,  1.1958e+00, -1.4009e+00,  3.4596e-01,\n",
      "         -7.5549e-01,  1.5559e+00, -1.2224e+00, -2.3121e-01, -2.9775e+00,\n",
      "          6.5062e-01, -6.0550e-01, -2.9511e-01,  1.6102e+00,  1.8398e+00,\n",
      "         -1.1538e+00, -2.7342e-01,  9.5743e-01,  6.3220e-01,  1.5679e+00,\n",
      "         -5.4242e-01,  3.3037e-01,  1.9900e+00, -2.4669e+00, -9.9143e-01,\n",
      "          1.5645e+00, -1.0057e+00, -7.9448e-01, -1.1423e+00,  3.3385e-01,\n",
      "          1.6429e+00,  1.0275e+00,  1.1716e+00,  1.3429e-01,  1.5313e+00,\n",
      "          3.0536e-01,  2.9406e-01,  6.0229e-01,  1.2406e+00,  4.0253e-01,\n",
      "          7.0688e-01,  1.4155e+00,  3.0035e-01,  3.2060e-01,  4.5079e-01,\n",
      "         -2.1270e+00, -5.7812e-01, -3.8441e-01, -7.8396e-01,  9.6063e-01,\n",
      "         -9.0820e-01, -7.0123e-02, -2.1417e+00,  1.4571e+00,  1.3364e-01,\n",
      "         -1.9693e+00,  6.1702e-01, -1.9881e+00,  1.2286e+00,  5.4835e-01,\n",
      "          3.5467e-01, -1.1983e+00,  2.5703e-01, -1.3776e+00, -1.1649e+00,\n",
      "         -2.3276e+00, -1.0506e-02, -9.3451e-01,  2.7899e-02,  8.6922e-01,\n",
      "         -5.9877e-01,  1.2194e+00,  9.0736e-01,  1.2061e+00, -2.5630e+00,\n",
      "          1.3302e+00, -9.9805e-01,  1.0105e+00, -2.7401e-01, -1.5035e+00,\n",
      "          8.0378e-01,  3.0614e+00,  1.4430e+00,  1.8956e-01, -1.8459e+00,\n",
      "         -8.9307e-01,  1.4663e+00, -5.1397e-01, -8.9437e-01, -7.3559e-02,\n",
      "         -4.4292e-01, -1.9182e+00, -1.5924e-01,  1.1424e+00, -6.9919e-01,\n",
      "          1.7967e+00,  1.6959e-01,  2.6624e+00,  2.4622e-01,  2.0164e+00,\n",
      "          6.2154e-01,  5.9365e-02, -4.5552e-01,  2.9065e+00, -2.0543e-01,\n",
      "         -1.3761e+00,  2.9344e-01,  3.5682e+00, -1.8112e+00,  2.1120e+00,\n",
      "         -1.0584e+00, -4.8337e-01,  6.2349e-01, -9.9333e-01, -1.2909e+00,\n",
      "         -3.5752e-02, -4.1770e-01, -2.8621e-01, -8.6208e-01,  1.2872e+00,\n",
      "          5.1158e-01,  9.3172e-02, -2.5412e-01, -1.2602e+00, -3.8742e-01,\n",
      "          1.2142e+00, -1.1155e+00, -1.6223e+00, -2.1910e+00, -1.0858e+00,\n",
      "          1.4686e-01, -1.1073e+00, -4.2106e-01,  5.2861e-01, -1.2259e-01,\n",
      "          7.6117e-01, -2.3012e-01, -8.2923e-01, -1.0961e+00,  9.8897e-01,\n",
      "          5.2440e-01, -1.1841e+00, -3.2734e-02, -6.0122e-01, -1.7313e+00,\n",
      "          1.4746e-01,  1.6325e+00,  2.1697e+00,  5.3347e-01,  4.6672e-01,\n",
      "         -7.5200e-01,  2.1043e+00, -7.6342e-01, -2.1889e+00,  1.6681e+00,\n",
      "         -1.0249e+00, -1.5658e+00, -8.2857e-02]], grad_fn=<DivBackward0>)\n"
     ]
    }
   ],
   "source": [
    "tokens_ids = model.tokenize(frag,max_length=512,mode=\"<encoder-only>\")\n",
    "source_ids = torch.tensor(tokens_ids).to(device)\n",
    "tokens_embeddings,max_func_embedding = model(source_ids)\n",
    "print(max_func_embedding.shape)\n",
    "print(max_func_embedding)"
   ]
  },
  {
   "cell_type": "code",
   "execution_count": 22,
   "metadata": {},
   "outputs": [
    {
     "name": "stdout",
     "output_type": "stream",
     "text": [
      "['public class Ivy {\\n    /**\\n     * Callback used to execute a set of Ivy related methods within an {@link IvyContext}.\\n     *\\n     * @see Ivy#execute(org.apache.ivy.Ivy.IvyCallback)\\n     */\\n    public interface IvyCallback {\\n        /**\\n         * Executes Ivy related job within an {@link IvyContext}\\n         *\\n         * @param ivy\\n         *            the {@link Ivy} instance to which this callback is related\\n         * @param context\\n         *            the {@link IvyContext} in which this callback is executed\\n         * @return the result of this job, <code>null</code> if there is no result\\n         */\\n        Object doInIvyContext(Ivy ivy, IvyContext context);\\n    }\\n\\n    private static final int KILO = 1024;\\n\\n    /**\\n     * @deprecated Use the {@link DateUtil} utility class instead.\\n     */\\n    @Deprecated\\n    public static final SimpleDateFormat DATE_FORMAT = new SimpleDateFormat(\\n            DateUtil.DATE_FORMAT_PATTERN);\\n\\n    /**\\n     * the current version of Ivy, as displayed on the console when Ivy is initialized\\n     */\\n    private static final String IVY_VERSION;\\n\\n    /**\\n     * the date at which this version of Ivy has been built. May be empty if unknown.\\n     */\\n    private static final String IVY_DATE;\\n\\n    static {\\n        // initialize IVY_VERSION and IVY_DATE\\n        Properties props = new Properties();\\n        URL moduleURL = Message.class.getResource(\"/module.properties\");\\n        if (moduleURL != null) {\\n            try {\\n                InputStream module = moduleURL.openStream();\\n                props.load(module);\\n                module.close();\\n            } catch (IOException e) {\\n                // ignore this exception, we will initialize with default values\\n            }\\n        }\\n        IVY_VERSION = props.getProperty(\"version\", \"non official version\");\\n        IVY_DATE = props.getProperty(\"date\", \"\");\\n    }\\n\\n    /**\\n     * Returns the current version of Ivy, as displayed on the console when Ivy is initialized.\\n     *\\n     * @return the current version of Ivy\\n     */\\n    public static String getIvyVersion() {\\n        return IVY_VERSION;\\n    }\\n\\n    /**\\n     * Returns the date at which this version of Ivy has been built.\\n     * <p>May be empty if unknown.</p>\\n     *\\n     * @return the date at which this version of Ivy has been built\\n     */\\n    public static String getIvyDate() {\\n        return IVY_DATE;\\n    }\\n\\n    /**\\n     * Returns the URL at which Ivy web site can be found.\\n     *\\n     * @return the URL at which Ivy web site can be found\\n     */\\n    public static String getIvyHomeURL() {\\n        return \"https://ant.apache.org/ivy/\";\\n    }\\n\\n    public static Ivy newInstance() {\\n        Ivy ivy = new Ivy();\\n        ivy.bind();\\n        return ivy;\\n    }\\n\\n    public static Ivy newInstance(IvySettings settings) {\\n        Ivy ivy = new Ivy();\\n        ivy.setSettings(settings);\\n        ivy.bind();\\n        return ivy;\\n    }\\n\\n    /**\\n     * True if the current processing has been requested to be interrupted, false otherwise\\n     */\\n    private boolean interrupted;\\n\\n    /**\\n     * True if this instance of Ivy has already been bound to its dependencies, false otherwise.\\n     *\\n     * @see #bind()\\n     */\\n    private boolean bound;\\n\\n    /*\\n     * Following are dependencies of the Ivy instance on instances of engines and manager which\\n     * actually do the work The attributes can be set either manually using the corresponding\\n     * setters, or all at once with the default implementations using the bind method\\n     */\\n    private IvySettings settings;\\n\\n    private EventManager eventManager;\\n\\n    private SortEngine sortEngine;\\n\\n    private SearchEngine searchEngine;\\n\\n    private CheckEngine checkEngine;\\n\\n    private ResolveEngine resolveEngine;\\n\\n    private RetrieveEngine retrieveEngine;\\n\\n    private DeliverEngine deliverEngine;\\n\\n    private PublishEngine publishEngine;\\n\\n    private InstallEngine installEngine;\\n\\n    private RepositoryManagementEngine repositoryEngine;\\n\\n    /**\\n     * The logger engine to use to log messages when using this Ivy instance.\\n     */\\n    private MessageLoggerEngine loggerEngine = new MessageLoggerEngine();\\n\\n    /**\\n     * The default constructor of Ivy allows to create an instance of Ivy with none of its\\n     * dependencies (engines, settings, ...) created. If you use this constructor, it\\'s your\\n     * responsibility to set the dependencies of Ivy using the appropriate setters\\n     * (setResolveEngine, ...). You can also call the bind method to set all the dependencies except\\n     * those that you have provided using the setters. If you want to get an instance ready to use,\\n     * prefer the use of Ivy.newInstance().\\n     */\\n    public Ivy() {\\n    }\\n\\n    /**\\n     * This method is used to bind this Ivy instance to required dependencies, i.e. instance of\\n     * settings, engines, and so on.\\n     * <p>\\n     * After this call Ivy is still not configured, which means that the settings object is still\\n     * empty.\\n     * </p>\\n     */\\n    public void bind() {\\n        pushContext();\\n        try {\\n            if (settings == null) {\\n                settings = new IvySettings();\\n            }\\n            if (eventManager == null) {\\n                eventManager = new EventManager();\\n            }\\n            if (sortEngine == null) {\\n                sortEngine = new SortEngine(settings);\\n            }\\n            if (searchEngine == null) {\\n                searchEngine = new SearchEngine(settings);\\n            }\\n            if (resolveEngine == null) {\\n                resolveEngine = new ResolveEngine(settings, eventManager, sortEngine);\\n            }\\n            if (retrieveEngine == null) {\\n                retrieveEngine = new RetrieveEngine(settings, eventManager);\\n            }\\n            if (deliverEngine == null) {\\n                deliverEngine = new DeliverEngine(settings);\\n            }\\n            if (publishEngine == null) {\\n                publishEngine = new PublishEngine(settings, eventManager);\\n            }\\n            if (installEngine == null) {\\n                installEngine = new InstallEngine(settings, searchEngine, resolveEngine);\\n            }\\n            if (repositoryEngine == null) {\\n                repositoryEngine = new RepositoryManagementEngine(settings, searchEngine,\\n                        resolveEngine);\\n            }\\n\\n            eventManager.addTransferListener(new TransferListener() {\\n                public void transferProgress(TransferEvent evt) {\\n                    ResolveData resolve;\\n                    switch (evt.getEventType()) {\\n                        case TransferEvent.TRANSFER_PROGRESS:\\n                            resolve = IvyContext.getContext().getResolveData();\\n                            if (resolve == null\\n                                    || !LogOptions.LOG_QUIET.equals(resolve.getOptions().getLog())) {\\n                                Message.progress();\\n                            }\\n                            break;\\n                        case TransferEvent.TRANSFER_COMPLETED:\\n                            resolve = IvyContext.getContext().getResolveData();\\n                            if (resolve == null\\n                                    || !LogOptions.LOG_QUIET.equals(resolve.getOptions().getLog())) {\\n                                Message.endProgress(\" (\" + (evt.getTotalLength() / KILO) + \"kB)\");\\n                            }\\n                            break;\\n                        default:\\n                            break;\\n                    }\\n                }\\n            });\\n\\n            bound = true;\\n        } finally {\\n            popContext();\\n        }\\n    }\\n\\n    /**\\n     * Executes the given callback in the context of this Ivy instance.\\n     * <p>\\n     * Alternatively you can use the {@link #pushContext()} and {@link #popContext()} methods, but\\n     * this is not recommended:\\n     * </p>\\n     * <pre>\\n     * Object result = null;\\n     * pushContext();\\n     * try {\\n     *     result = callback.doInIvyContext(this, IvyContext.getContext());\\n     * } finally {\\n     *     popContext();\\n     * }\\n     * doSomethingWithResult(result);\\n     * </pre>\\n     *\\n     * @param callback IvyCallback\\n     * @return Object\\n     */\\n    public Object execute(IvyCallback callback) {\\n        pushContext();\\n        try {\\n            return callback.doInIvyContext(this, IvyContext.getContext());\\n        } finally {\\n            popContext();\\n        }\\n    }\\n\\n    /**\\n     * Pushes a new IvyContext bound to this Ivy instance if the current context is not already\\n     * bound to this Ivy instance. If the current context is already bound to this Ivy instance, it\\n     * pushes the current context on the context stack, so that you can (and must) always call\\n     * {@link #popContext()} when you\\'re done.\\n     * <p>\\n     * Alternatively, you can use the {@link #execute(org.apache.ivy.Ivy.IvyCallback)} method which\\n     * takes care of everything for you.\\n     * </p>\\n     */\\n    public void pushContext() {\\n        if (IvyContext.getContext().peekIvy() != this) {\\n            // the current Ivy context is associated with another Ivy instance, we push a new\\n            // instance\\n            IvyContext.pushNewContext();\\n            IvyContext.getContext().setIvy(this);\\n        } else {\\n            // the current Ivy context is already associated with this Ivy instance, we only push it\\n            // for popping consistency\\n            IvyContext.pushContext(IvyContext.getContext());\\n        }\\n    }\\n\\n    /**\\n     * Pops the current Ivy context.\\n     * <p>\\n     * You must call this method once and only once for each call to {@link #pushContext()}, when\\n     * you\\'re done with the your Ivy related work.\\n     * </p>\\n     * <p>\\n     * Alternatively, you can use the {@link #execute(org.apache.ivy.Ivy.IvyCallback)} method which\\n     * takes care of everything for you.\\n     * </p>\\n     */\\n    public void popContext() {\\n        IvyContext.popContext();\\n    }\\n\\n    // ///////////////////////////////////////////////////////////////////////\\n    // LOAD SETTINGS\\n    // ///////////////////////////////////////////////////////////////////////\\n    public void configure(File settingsFile) throws ParseException, IOException {\\n        pushContext();\\n        try {\\n            assertBound();\\n            settings.load(settingsFile);\\n            postConfigure();\\n        } finally {\\n            popContext();\\n        }\\n    }\\n\\n    public void configure(URL settingsURL) throws ParseException, IOException {\\n        pushContext();\\n        try {\\n            assertBound();\\n            settings.load(settingsURL);\\n            postConfigure();\\n        } finally {\\n            popContext();\\n        }\\n    }\\n\\n    public void configureDefault() throws ParseException, IOException {\\n        pushContext();\\n        try {\\n            assertBound();\\n            settings.loadDefault();\\n            postConfigure();\\n        } finally {\\n            popContext();\\n        }\\n    }\\n\\n    /**\\n     * Configures Ivy with 1.4 compatible default settings\\n     *\\n     * @throws ParseException if something goes wrong\\n     * @throws IOException if something goes wrong\\n     */\\n    public void configureDefault14() throws ParseException, IOException {\\n        pushContext();\\n        try {\\n            assertBound();\\n            settings.loadDefault14();\\n            postConfigure();\\n        } finally {\\n            popContext();\\n        }\\n    }\\n\\n    // ///////////////////////////////////////////////////////////////////////\\n    // CHECK\\n    // ///////////////////////////////////////////////////////////////////////\\n    public boolean check(URL ivyFile, String resolvername) {\\n        pushContext();\\n        try {\\n            return checkEngine.check(ivyFile, resolvername);\\n        } finally {\\n            popContext();\\n        }\\n    }\\n\\n    // ///////////////////////////////////////////////////////////////////////\\n    // RESOLVE\\n    // ///////////////////////////////////////////////////////////////////////\\n\\n    public ResolveReport resolve(File ivySource) throws ParseException, IOException {\\n        pushContext();\\n        try {\\n            return resolveEngine.resolve(ivySource);\\n        } finally {\\n            popContext();\\n        }\\n    }\\n\\n    public ResolveReport resolve(URL ivySource) throws ParseException, IOException {\\n        pushContext();\\n        try {\\n            return resolveEngine.resolve(ivySource);\\n        } finally {\\n            popContext();\\n        }\\n    }\\n\\n    public ResolveReport resolve(ModuleRevisionId mrid, ResolveOptions options, boolean changing)\\n            throws ParseException, IOException {\\n        pushContext();\\n        try {\\n            return resolveEngine.resolve(mrid, options, changing);\\n        } finally {\\n            popContext();\\n        }\\n    }\\n\\n    public ResolveReport resolve(URL ivySource, ResolveOptions options) throws ParseException,\\n            IOException {\\n        pushContext();\\n        try {\\n            return resolveEngine.resolve(ivySource, options);\\n        } finally {\\n            popContext();\\n        }\\n    }\\n\\n    public ResolveReport resolve(File ivySource, ResolveOptions options) throws ParseException,\\n            IOException {\\n        return resolve(ivySource.toURI().toURL(), options);\\n    }\\n\\n    public ResolveReport resolve(ModuleDescriptor md, ResolveOptions options)\\n            throws ParseException, IOException {\\n        pushContext();\\n        try {\\n            return resolveEngine.resolve(md, options);\\n        } finally {\\n            popContext();\\n        }\\n    }\\n\\n    // ///////////////////////////////////////////////////////////////////////\\n    // INSTALL\\n    // ///////////////////////////////////////////////////////////////////////\\n\\n    public ResolveReport install(ModuleRevisionId mrid, String from, String to,\\n            InstallOptions options) throws IOException {\\n        pushContext();\\n        try {\\n            return installEngine.install(mrid, from, to, options);\\n        } finally {\\n            popContext();\\n        }\\n    }\\n\\n    // ///////////////////////////////////////////////////////////////////////\\n    // RETRIEVE\\n    // ///////////////////////////////////////////////////////////////////////\\n\\n    @Deprecated\\n    public int retrieve(ModuleRevisionId mrid, String destFilePattern, RetrieveOptions options)\\n            throws IOException {\\n        pushContext();\\n        try {\\n            return retrieveEngine.retrieve(mrid, destFilePattern, options);\\n        } finally {\\n            popContext();\\n        }\\n    }\\n\\n    public RetrieveReport retrieve(ModuleRevisionId mrid, RetrieveOptions options)\\n            throws IOException {\\n        pushContext();\\n        try {\\n            return retrieveEngine.retrieve(mrid, options);\\n        } finally {\\n            popContext();\\n        }\\n    }\\n\\n    // ///////////////////////////////////////////////////////////////////////\\n    // DELIVER\\n    // ///////////////////////////////////////////////////////////////////////\\n\\n    public void deliver(ModuleRevisionId mrid, String revision, String destIvyPattern)\\n            throws IOException, ParseException {\\n        pushContext();\\n        try {\\n            deliverEngine.deliver(mrid, revision, destIvyPattern,\\n                DeliverOptions.newInstance(settings));\\n        } finally {\\n            popContext();\\n        }\\n    }\\n\\n    public void deliver(String revision, String destIvyPattern, DeliverOptions options)\\n            throws IOException, ParseException {\\n        pushContext();\\n        try {\\n            deliverEngine.deliver(revision, destIvyPattern, options);\\n        } finally {\\n            popContext();\\n        }\\n    }\\n\\n    /**\\n     * Example of use: deliver(mrid, \"1.5\", \"target/ivy/ivy-[revision].xml\",\\n     * DeliverOptions.newInstance(settings).setStatus(\"release\").setValidate(false));\\n     *\\n     * @param mrid ModuleRevisionId\\n     * @param revision String\\n     * @param destIvyPattern String\\n     * @param options DeliverOptions\\n     * @throws IOException if something goes wrong\\n     * @throws ParseException if something goes wrong\\n     */\\n    public void deliver(ModuleRevisionId mrid, String revision, String destIvyPattern,\\n            DeliverOptions options) throws IOException, ParseException {\\n        pushContext();\\n        try {\\n            deliverEngine.deliver(mrid, revision, destIvyPattern, options);\\n        } finally {\\n            popContext();\\n        }\\n    }\\n\\n    // ///////////////////////////////////////////////////////////////////////\\n    // PUBLISH\\n    // ///////////////////////////////////////////////////////////////////////\\n\\n    public Collection<Artifact> publish(ModuleRevisionId mrid,\\n            Collection<String> srcArtifactPattern, String resolverName, PublishOptions options)\\n            throws IOException {\\n        pushContext();\\n        try {\\n            return publishEngine.publish(mrid, srcArtifactPattern, resolverName, options);\\n        } finally {\\n            popContext();\\n        }\\n    }\\n\\n    // ///////////////////////////////////////////////////////////////////////\\n    // SORT\\n    // ///////////////////////////////////////////////////////////////////////\\n\\n    /**\\n     * Sorts the collection of IvyNode from the less dependent to the more dependent\\n     *\\n     * @param nodes Collection&lt;IvyNode&gt;\\n     * @param options SortOptions\\n     * @return List&lt;IvyNode&gt;\\n     */\\n    public List<IvyNode> sortNodes(Collection<IvyNode> nodes, SortOptions options) {\\n        pushContext();\\n        try {\\n            return getSortEngine().sortNodes(nodes, options);\\n        } finally {\\n            popContext();\\n        }\\n    }\\n\\n    /**\\n     * Sorts the given ModuleDescriptors from the less dependent to the more dependent. This sort\\n     * ensures that a ModuleDescriptor is always found in the list before all ModuleDescriptors\\n     * depending directly on it.\\n     *\\n     * @param moduleDescriptors\\n     *            a Collection of ModuleDescriptor to sort\\n     * @param options\\n     *            Options to use to sort the descriptors.\\n     * @return a List of sorted ModuleDescriptors\\n     * @throws CircularDependencyException\\n     *             if a circular dependency exists and circular dependency strategy decide to throw\\n     *             an exception\\n     */\\n    public List<ModuleDescriptor> sortModuleDescriptors(\\n            Collection<ModuleDescriptor> moduleDescriptors, SortOptions options) {\\n        pushContext();\\n        try {\\n            return getSortEngine().sortModuleDescriptors(moduleDescriptors, options);\\n        } finally {\\n            popContext();\\n        }\\n    }\\n\\n    // ///////////////////////////////////////////////////////////////////////\\n    // SEARCH\\n    // ///////////////////////////////////////////////////////////////////////\\n\\n    public ResolvedModuleRevision findModule(ModuleRevisionId mrid) {\\n        pushContext();\\n        try {\\n            ResolveOptions options = new ResolveOptions();\\n            options.setValidate(false);\\n            return resolveEngine.findModule(mrid, options);\\n        } finally {\\n            popContext();\\n        }\\n    }\\n\\n    public ModuleEntry[] listModuleEntries(OrganisationEntry org) {\\n        pushContext();\\n        try {\\n            return searchEngine.listModuleEntries(org);\\n        } finally {\\n            popContext();\\n        }\\n    }\\n\\n    public ModuleId[] listModules(ModuleId criteria, PatternMatcher matcher) {\\n        pushContext();\\n        try {\\n            return searchEngine.listModules(criteria, matcher);\\n        } finally {\\n            popContext();\\n        }\\n    }\\n\\n    public ModuleRevisionId[] listModules(ModuleRevisionId criteria, PatternMatcher matcher) {\\n        pushContext();\\n        try {\\n            return searchEngine.listModules(criteria, matcher);\\n        } finally {\\n            popContext();\\n        }\\n    }\\n\\n    public String[] listModules(String org) {\\n        pushContext();\\n        try {\\n            return searchEngine.listModules(org);\\n        } finally {\\n            popContext();\\n        }\\n    }\\n\\n    public OrganisationEntry[] listOrganisationEntries() {\\n        pushContext();\\n        try {\\n            return searchEngine.listOrganisationEntries();\\n        } finally {\\n            popContext();\\n        }\\n    }\\n\\n    public String[] listOrganisations() {\\n        pushContext();\\n        try {\\n            return searchEngine.listOrganisations();\\n        } finally {\\n            popContext();\\n        }\\n    }\\n\\n    public RevisionEntry[] listRevisionEntries(ModuleEntry module) {\\n        pushContext();\\n        try {\\n            return searchEngine.listRevisionEntries(module);\\n        } finally {\\n            popContext();\\n        }\\n    }\\n\\n    public String[] listRevisions(String org, String module) {\\n        pushContext();\\n        try {\\n            return searchEngine.listRevisions(org, module);\\n        } finally {\\n            popContext();\\n        }\\n    }\\n\\n    public String[] listTokenValues(String token, Map<String, Object> otherTokenValues) {\\n        pushContext();\\n        try {\\n            return searchEngine.listTokenValues(token, otherTokenValues);\\n        } finally {\\n            popContext();\\n        }\\n    }\\n\\n    // ///////////////////////////////////////////////////////////////////////\\n    // INTERRUPTIONS\\n    // ///////////////////////////////////////////////////////////////////////\\n\\n    /**\\n     * Interrupts the current running operation, no later than interruptTimeout milliseconds after\\n     * the call\\n     */\\n    public void interrupt() {\\n        Thread operatingThread = IvyContext.getContext().getOperatingThread();\\n        interrupt(operatingThread);\\n    }\\n\\n    /**\\n     * Interrupts the current running operation in the given operating thread, no later than\\n     * interruptTimeout milliseconds after the call\\n     *\\n     * @param operatingThread Thread\\n     */\\n    @SuppressWarnings(\"deprecation\")\\n    public void interrupt(Thread operatingThread) {\\n        if (operatingThread != null && operatingThread.isAlive()) {\\n            if (operatingThread == Thread.currentThread()) {\\n                throw new IllegalStateException(\"cannot call interrupt from ivy operating thread\");\\n            }\\n            Message.verbose(\"interrupting operating thread...\");\\n            operatingThread.interrupt();\\n            synchronized (this) {\\n                interrupted = true;\\n            }\\n            try {\\n                Message.verbose(\"waiting clean interruption of operating thread\");\\n                operatingThread.join(settings.getInterruptTimeout());\\n            } catch (InterruptedException e) {\\n                // reset thread interrupt status\\n                Thread.currentThread().interrupt();\\n            }\\n            if (operatingThread.isAlive()) {\\n                Message.warn(\"waited clean interruption for too long: stopping operating thread\");\\n                operatingThread.stop();\\n            }\\n            synchronized (this) {\\n                interrupted = false;\\n            }\\n        }\\n    }\\n\\n    public synchronized boolean isInterrupted() {\\n        return interrupted;\\n    }\\n\\n    /**\\n     * Check if the current operation has been interrupted, and if it is the case, throw a runtime\\n     * exception\\n     */\\n    public void checkInterrupted() {\\n        if (isInterrupted()) {\\n            Message.info(\"operation interrupted\");\\n            throw new RuntimeException(\"operation interrupted\");\\n        }\\n    }\\n\\n    public static String getWorkingRevision() {\\n        return \"working@\" + HostUtil.getLocalHostName();\\n    }\\n\\n    public ResolutionCacheManager getResolutionCacheManager() {\\n        return settings.getResolutionCacheManager();\\n    }\\n\\n    private void assertBound() {\\n        if (!bound) {\\n            bind();\\n        }\\n    }\\n\\n    private void postConfigure() {\\n        List<Trigger> triggers = settings.getTriggers();\\n        for (Trigger trigger : triggers) {\\n            eventManager.addIvyListener(trigger, trigger.getEventFilter());\\n        }\\n\\n        for (DependencyResolver resolver : settings.getResolvers()) {\\n            if (resolver instanceof BasicResolver) {\\n                ((BasicResolver) resolver).setEventManager(eventManager);\\n            }\\n        }\\n    }\\n\\n    public String getVariable(String name) {\\n        pushContext();\\n        try {\\n            assertBound();\\n            return settings.getVariable(name);\\n        } finally {\\n            popContext();\\n        }\\n    }\\n\\n    public String substitute(String str) {\\n        pushContext();\\n        try {\\n            assertBound();\\n            return settings.substitute(str);\\n        } finally {\\n            popContext();\\n        }\\n    }\\n\\n    public void setVariable(String varName, String value) {\\n        pushContext();\\n        try {\\n            assertBound();\\n            settings.setVariable(varName, value);\\n        } finally {\\n            popContext();\\n        }\\n    }\\n\\n    // ///////////////////////////////////////////////////////////////////\\n    // GETTERS / SETTERS\\n    // ///////////////////////////////////////////////////////////////////\\n\\n    public IvySettings getSettings() {\\n        return settings;\\n    }\\n\\n    public EventManager getEventManager() {\\n        return eventManager;\\n    }\\n\\n    public CheckEngine getCheckEngine() {\\n        return checkEngine;\\n    }\\n\\n    public void setCheckEngine(CheckEngine checkEngine) {\\n        this.checkEngine = checkEngine;\\n    }\\n\\n    public DeliverEngine getDeliverEngine() {\\n        return deliverEngine;\\n    }\\n\\n    public void setDeliverEngine(DeliverEngine deliverEngine) {\\n        this.deliverEngine = deliverEngine;\\n    }\\n\\n    public InstallEngine getInstallEngine() {\\n        return installEngine;\\n    }\\n\\n    public void setInstallEngine(InstallEngine installEngine) {\\n        this.installEngine = installEngine;\\n    }\\n\\n    public PublishEngine getPublishEngine() {\\n        return publishEngine;\\n    }\\n\\n    public void setPublishEngine(PublishEngine publishEngine) {\\n        this.publishEngine = publishEngine;\\n    }\\n\\n    public ResolveEngine getResolveEngine() {\\n        return resolveEngine;\\n    }\\n\\n    public void setResolveEngine(ResolveEngine resolveEngine) {\\n        this.resolveEngine = resolveEngine;\\n    }\\n\\n    public RetrieveEngine getRetrieveEngine() {\\n        return retrieveEngine;\\n    }\\n\\n    public void setRetrieveEngine(RetrieveEngine retrieveEngine) {\\n        this.retrieveEngine = retrieveEngine;\\n    }\\n\\n    public SearchEngine getSearchEngine() {\\n        return searchEngine;\\n    }\\n\\n    public void setSearchEngine(SearchEngine searchEngine) {\\n        this.searchEngine = searchEngine;\\n    }\\n\\n    public SortEngine getSortEngine() {\\n        return sortEngine;\\n    }\\n\\n    public void setSortEngine(SortEngine sortEngine) {\\n        this.sortEngine = sortEngine;\\n    }\\n\\n    public RepositoryManagementEngine getRepositoryEngine() {\\n        return repositoryEngine;\\n    }\\n\\n    public void setRepositoryEngine(RepositoryManagementEngine repositoryEngine) {\\n        this.repositoryEngine = repositoryEngine;\\n    }\\n\\n    public void setEventManager(EventManager eventManager) {\\n        this.eventManager = eventManager;\\n    }\\n\\n    public void setSettings(IvySettings settings) {\\n        this.settings = settings;\\n    }\\n\\n    public MessageLoggerEngine getLoggerEngine() {\\n        return loggerEngine;\\n    }\\n}']\n"
     ]
    }
   ],
   "source": [
    "print(frag)"
   ]
  },
  {
   "cell_type": "code",
   "execution_count": null,
   "metadata": {},
   "outputs": [],
   "source": []
  }
 ],
 "metadata": {
  "kernelspec": {
   "display_name": "Python (tda)",
   "language": "python",
   "name": "tda"
  },
  "language_info": {
   "codemirror_mode": {
    "name": "ipython",
    "version": 3
   },
   "file_extension": ".py",
   "mimetype": "text/x-python",
   "name": "python",
   "nbconvert_exporter": "python",
   "pygments_lexer": "ipython3",
   "version": "3.10.4"
  }
 },
 "nbformat": 4,
 "nbformat_minor": 5
}
