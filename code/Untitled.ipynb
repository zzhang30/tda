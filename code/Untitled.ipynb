{
 "cells": [
  {
   "cell_type": "code",
   "execution_count": 1,
   "metadata": {},
   "outputs": [],
   "source": [
    "import gudhi\n",
    "import numpy as np\n",
    "import matplotlib.pyplot as plt\n",
    "from helper_function import *\n"
   ]
  },
  {
   "cell_type": "code",
   "execution_count": 2,
   "metadata": {},
   "outputs": [],
   "source": [
    "paths = [\"ivyClass/ant\"]\n",
    "max_edge = 50  # Maximum edge length for the Rips complex\n",
    "max_dim = 2     # Maximum dimension for Betti numbers\n",
    "interval = np.linspace(0, 1, 100)  # Interval for Betti curves\n",
    "\n"
   ]
  },
  {
   "cell_type": "code",
   "execution_count": 3,
   "metadata": {},
   "outputs": [
    {
     "name": "stdout",
     "output_type": "stream",
     "text": [
      "Processing path: /scratch/zzhang30/cs420/data/ivyClass/ant\n",
      "Parsing file: /scratch/zzhang30/cs420/data/ivyClass/ant/IvyAntSettings.json\n",
      "Parsing file: /scratch/zzhang30/cs420/data/ivyClass/ant/IvyDependencyTree.json\n",
      "Parsing file: /scratch/zzhang30/cs420/data/ivyClass/ant/IvyConflict.json\n",
      "Parsing file: /scratch/zzhang30/cs420/data/ivyClass/ant/IvyExclude.json\n",
      "Parsing file: /scratch/zzhang30/cs420/data/ivyClass/ant/IvyConvertPom.json\n",
      "Parsing file: /scratch/zzhang30/cs420/data/ivyClass/ant/Range.json\n",
      "Parsing file: /scratch/zzhang30/cs420/data/ivyClass/ant/IvyListModules.json\n",
      "Parsing file: /scratch/zzhang30/cs420/data/ivyClass/ant/Ignore.json\n",
      "Parsing file: /scratch/zzhang30/cs420/data/ivyClass/ant/IvyExtractFromSources.json\n",
      "Parsing file: /scratch/zzhang30/cs420/data/ivyClass/ant/DeliverDRResolver.json\n",
      "Parsing file: /scratch/zzhang30/cs420/data/ivyClass/ant/AddPathTask.json\n",
      "Parsing file: /scratch/zzhang30/cs420/data/ivyClass/ant/Mapping.json\n",
      "Parsing file: /scratch/zzhang30/cs420/data/ivyClass/ant/Resolver.json\n",
      "Parsing file: /scratch/zzhang30/cs420/data/ivyClass/ant/IvyDependencyExclude.json\n",
      "Parsing file: /scratch/zzhang30/cs420/data/ivyClass/ant/NewRevision.json\n",
      "Parsing file: /scratch/zzhang30/cs420/data/ivyClass/ant/IvyPostResolveTask.json\n",
      "Parsing file: /scratch/zzhang30/cs420/data/ivyClass/ant/Credentials.json\n",
      "Parsing file: /scratch/zzhang30/cs420/data/ivyClass/ant/IvyDependencyConf.json\n",
      "Parsing file: /scratch/zzhang30/cs420/data/ivyClass/ant/FixDepsTask.json\n",
      "Parsing file: /scratch/zzhang30/cs420/data/ivyClass/ant/IvyDependencyConfMapped.json\n",
      "Parsing file: /scratch/zzhang30/cs420/data/ivyClass/ant/ResolvedModuleRevisionArtifactInfo.json\n",
      "Parsing file: /scratch/zzhang30/cs420/data/ivyClass/ant/IvyRepositoryReport.json\n",
      "Parsing file: /scratch/zzhang30/cs420/data/ivyClass/ant/IvyCachePath.json\n",
      "Parsing file: /scratch/zzhang30/cs420/data/ivyClass/ant/IvyCacheTask.json\n",
      "Parsing file: /scratch/zzhang30/cs420/data/ivyClass/ant/AntMessageLogger2.json\n",
      "Parsing file: /scratch/zzhang30/cs420/data/ivyClass/ant/AntMessageLogger.json\n",
      "Parsing file: /scratch/zzhang30/cs420/data/ivyClass/ant/OnMissingDescriptor.json\n",
      "Parsing file: /scratch/zzhang30/cs420/data/ivyClass/ant/IvyDependencyUpdateChecker.json\n",
      "Parsing file: /scratch/zzhang30/cs420/data/ivyClass/ant/IvyInstall.json\n",
      "Parsing file: /scratch/zzhang30/cs420/data/ivyClass/ant/IvyCleanCache.json\n",
      "Parsing file: /scratch/zzhang30/cs420/data/ivyClass/ant/Dependency.json\n",
      "Parsing file: /scratch/zzhang30/cs420/data/ivyClass/ant/IvyDependencyArtifact.json\n",
      "Parsing file: /scratch/zzhang30/cs420/data/ivyClass/ant/IvyMakePom.json\n",
      "Parsing file: /scratch/zzhang30/cs420/data/ivyClass/ant/AntWorkspaceResolver.json\n",
      "Parsing file: /scratch/zzhang30/cs420/data/ivyClass/ant/IvyBaseResourceCollectionWrapper.json\n",
      "Parsing file: /scratch/zzhang30/cs420/data/ivyClass/ant/AntBuildTrigger.json\n",
      "Parsing file: /scratch/zzhang30/cs420/data/ivyClass/ant/EmptyDirectoryScanner.json\n",
      "Parsing file: /scratch/zzhang30/cs420/data/ivyClass/ant/IvyResources.json\n",
      "Parsing file: /scratch/zzhang30/cs420/data/ivyClass/ant/MapperAdapter.json\n",
      "Parsing file: /scratch/zzhang30/cs420/data/ivyClass/ant/ArtifactsPattern.json\n",
      "Parsing file: /scratch/zzhang30/cs420/data/ivyClass/ant/IvyDependencyInclude.json\n",
      "Parsing file: /scratch/zzhang30/cs420/data/ivyClass/ant/PublishArtifact.json\n",
      "Parsing file: /scratch/zzhang30/cs420/data/ivyClass/ant/PackageMapping.json\n",
      "Parsing file: /scratch/zzhang30/cs420/data/ivyClass/ant/IvyFindRevision.json\n",
      "Parsing file: /scratch/zzhang30/cs420/data/ivyClass/ant/Keep.json\n",
      "Parsing file: /scratch/zzhang30/cs420/data/ivyClass/ant/IvyBuildList.json\n",
      "Parsing file: /scratch/zzhang30/cs420/data/ivyClass/ant/BuildOBRTask.json\n",
      "Parsing file: /scratch/zzhang30/cs420/data/ivyClass/ant/IvyBuildNumber.json\n",
      "Parsing file: /scratch/zzhang30/cs420/data/ivyClass/ant/IvyInfo.json\n",
      "Parsing file: /scratch/zzhang30/cs420/data/ivyClass/ant/ConvertManifestTask.json\n",
      "Parsing file: /scratch/zzhang30/cs420/data/ivyClass/ant/IvyDependency.json\n",
      "Parsing file: /scratch/zzhang30/cs420/data/ivyClass/ant/EmptyIterator.json\n",
      "Parsing file: /scratch/zzhang30/cs420/data/ivyClass/ant/IvyDeliver.json\n",
      "Parsing file: /scratch/zzhang30/cs420/data/ivyClass/ant/IvyOverride.json\n",
      "Parsing file: /scratch/zzhang30/cs420/data/ivyClass/ant/IvyCacheFileset.json\n",
      "Parsing file: /scratch/zzhang30/cs420/data/ivyClass/ant/BuildListModule.json\n",
      "Parsing file: /scratch/zzhang30/cs420/data/ivyClass/ant/IvyAntVariableContainer.json\n",
      "Parsing file: /scratch/zzhang30/cs420/data/ivyClass/ant/EmptyFileSet.json\n",
      "Parsing file: /scratch/zzhang30/cs420/data/ivyClass/ant/IvyResolve.json\n",
      "Parsing file: /scratch/zzhang30/cs420/data/ivyClass/ant/IvyArtifactProperty.json\n",
      "Parsing file: /scratch/zzhang30/cs420/data/ivyClass/ant/IvyPublish.json\n",
      "Parsing file: /scratch/zzhang30/cs420/data/ivyClass/ant/IvyConfigure.json\n",
      "Parsing file: /scratch/zzhang30/cs420/data/ivyClass/ant/IvyArtifactReport.json\n",
      "Parsing file: /scratch/zzhang30/cs420/data/ivyClass/ant/IvyCheck.json\n",
      "Parsing file: /scratch/zzhang30/cs420/data/ivyClass/ant/IvyVar.json\n",
      "Parsing file: /scratch/zzhang30/cs420/data/ivyClass/ant/IvyRetrieve.json\n",
      "Parsing file: /scratch/zzhang30/cs420/data/ivyClass/ant/WorkspaceArtifact.json\n",
      "Parsing file: /scratch/zzhang30/cs420/data/ivyClass/ant/IvyTask.json\n",
      "Parsing file: /scratch/zzhang30/cs420/data/ivyClass/ant/AntCallTrigger.json\n",
      "Parsing file: /scratch/zzhang30/cs420/data/ivyClass/ant/IvyReport.json\n",
      "Parsing file: /scratch/zzhang30/cs420/data/ivyClass/ant/IvyPostResolveTask/IvyPostResolveTask.json\n",
      "Parsing file: /scratch/zzhang30/cs420/data/ivyClass/ant/IvyArtifactProperty/IvyArtifactProperty.json\n",
      "Parsing file: /scratch/zzhang30/cs420/data/ivyClass/ant/IvyTask/IvyTask.json\n",
      "Parsing file: /scratch/zzhang30/cs420/data/ivyClass/ant/IvyRepositoryReport/IvyRepositoryReport.json\n",
      "Parsing file: /scratch/zzhang30/cs420/data/ivyClass/ant/ConvertManifestTask/ConvertManifestTask.json\n",
      "Parsing file: /scratch/zzhang30/cs420/data/ivyClass/ant/EmptyFileSet/EmptyDirectoryScanner.json\n",
      "Parsing file: /scratch/zzhang30/cs420/data/ivyClass/ant/EmptyFileSet/EmptyIterator.json\n",
      "Parsing file: /scratch/zzhang30/cs420/data/ivyClass/ant/EmptyFileSet/EmptyFileSet.json\n",
      "Parsing file: /scratch/zzhang30/cs420/data/ivyClass/ant/IvyResolve/IvyResolve.json\n",
      "Parsing file: /scratch/zzhang30/cs420/data/ivyClass/ant/IvyBuildNumber/Range.json\n",
      "Parsing file: /scratch/zzhang30/cs420/data/ivyClass/ant/IvyBuildNumber/NewRevision.json\n",
      "Parsing file: /scratch/zzhang30/cs420/data/ivyClass/ant/IvyBuildNumber/ResolvedModuleRevisionArtifactInfo.json\n",
      "Parsing file: /scratch/zzhang30/cs420/data/ivyClass/ant/IvyBuildNumber/IvyBuildNumber.json\n",
      "Parsing file: /scratch/zzhang30/cs420/data/ivyClass/ant/IvyDependencyInclude/IvyDependencyInclude.json\n",
      "Parsing file: /scratch/zzhang30/cs420/data/ivyClass/ant/FixDepsTask/FixDepsTask.json\n",
      "Parsing file: /scratch/zzhang30/cs420/data/ivyClass/ant/FixDepsTask/Keep.json\n",
      "Parsing file: /scratch/zzhang30/cs420/data/ivyClass/ant/IvyArtifactReport/IvyArtifactReport.json\n",
      "Parsing file: /scratch/zzhang30/cs420/data/ivyClass/ant/IvyConflict/IvyConflict.json\n",
      "Parsing file: /scratch/zzhang30/cs420/data/ivyClass/ant/IvyOverride/IvyOverride.json\n",
      "Parsing file: /scratch/zzhang30/cs420/data/ivyClass/ant/IvyAntVariableContainer/IvyAntVariableContainer.json\n",
      "Parsing file: /scratch/zzhang30/cs420/data/ivyClass/ant/IvyExclude/IvyExclude.json\n",
      "Parsing file: /scratch/zzhang30/cs420/data/ivyClass/ant/BuildOBRTask/AntMessageLogger2.json\n",
      "Parsing file: /scratch/zzhang30/cs420/data/ivyClass/ant/BuildOBRTask/BuildOBRTask.json\n",
      "Parsing file: /scratch/zzhang30/cs420/data/ivyClass/ant/IvyDependencyExclude/IvyDependencyExclude.json\n",
      "Parsing file: /scratch/zzhang30/cs420/data/ivyClass/ant/AntBuildTrigger/AntBuildTrigger.json\n",
      "Parsing file: /scratch/zzhang30/cs420/data/ivyClass/ant/AddPathTask/AddPathTask.json\n",
      "Parsing file: /scratch/zzhang30/cs420/data/ivyClass/ant/IvyDependencyTree/IvyDependencyTree.json\n",
      "Parsing file: /scratch/zzhang30/cs420/data/ivyClass/ant/IvyResources/IvyBaseResourceCollectionWrapper.json\n",
      "Parsing file: /scratch/zzhang30/cs420/data/ivyClass/ant/IvyResources/IvyResources.json\n",
      "Parsing file: /scratch/zzhang30/cs420/data/ivyClass/ant/AntCallTrigger/AntCallTrigger.json\n",
      "Parsing file: /scratch/zzhang30/cs420/data/ivyClass/ant/AntMessageLogger/AntMessageLogger.json\n",
      "Parsing file: /scratch/zzhang30/cs420/data/ivyClass/ant/IvyFindRevision/IvyFindRevision.json\n",
      "Parsing file: /scratch/zzhang30/cs420/data/ivyClass/ant/IvyCheck/IvyCheck.json\n",
      "Parsing file: /scratch/zzhang30/cs420/data/ivyClass/ant/IvyCleanCache/IvyCleanCache.json\n",
      "Parsing file: /scratch/zzhang30/cs420/data/ivyClass/ant/IvyDependencyArtifact/IvyDependencyArtifact.json\n",
      "Parsing file: /scratch/zzhang30/cs420/data/ivyClass/ant/PackageMapping/PackageMapping.json\n",
      "Parsing file: /scratch/zzhang30/cs420/data/ivyClass/ant/IvyCacheTask/IvyCacheTask.json\n",
      "Parsing file: /scratch/zzhang30/cs420/data/ivyClass/ant/IvyPublish/ArtifactsPattern.json\n",
      "Parsing file: /scratch/zzhang30/cs420/data/ivyClass/ant/IvyPublish/PublishArtifact.json\n",
      "Parsing file: /scratch/zzhang30/cs420/data/ivyClass/ant/IvyPublish/IvyPublish.json\n",
      "Parsing file: /scratch/zzhang30/cs420/data/ivyClass/ant/IvyInstall/IvyInstall.json\n",
      "Parsing file: /scratch/zzhang30/cs420/data/ivyClass/ant/IvyCachePath/IvyCachePath.json\n",
      "Parsing file: /scratch/zzhang30/cs420/data/ivyClass/ant/IvyExtractFromSources/Ignore.json\n",
      "Parsing file: /scratch/zzhang30/cs420/data/ivyClass/ant/IvyExtractFromSources/IvyExtractFromSources.json\n",
      "Parsing file: /scratch/zzhang30/cs420/data/ivyClass/ant/IvyDependencyUpdateChecker/IvyDependencyUpdateChecker.json\n",
      "Parsing file: /scratch/zzhang30/cs420/data/ivyClass/ant/AntWorkspaceResolver/Resolver.json\n",
      "Parsing file: /scratch/zzhang30/cs420/data/ivyClass/ant/AntWorkspaceResolver/AntWorkspaceResolver.json\n",
      "Parsing file: /scratch/zzhang30/cs420/data/ivyClass/ant/AntWorkspaceResolver/WorkspaceArtifact.json\n",
      "Parsing file: /scratch/zzhang30/cs420/data/ivyClass/ant/IvyVar/IvyVar.json\n",
      "Parsing file: /scratch/zzhang30/cs420/data/ivyClass/ant/IvyConfigure/IvyConfigure.json\n",
      "Parsing file: /scratch/zzhang30/cs420/data/ivyClass/ant/IvyConvertPom/IvyConvertPom.json\n",
      "Parsing file: /scratch/zzhang30/cs420/data/ivyClass/ant/IvyInfo/IvyInfo.json\n",
      "Parsing file: /scratch/zzhang30/cs420/data/ivyClass/ant/IvyReport/IvyReport.json\n",
      "Parsing file: /scratch/zzhang30/cs420/data/ivyClass/ant/IvyCacheFileset/IvyCacheFileset.json\n",
      "Parsing file: /scratch/zzhang30/cs420/data/ivyClass/ant/MapperAdapter/MapperAdapter.json\n",
      "Parsing file: /scratch/zzhang30/cs420/data/ivyClass/ant/IvyMakePom/Mapping.json\n",
      "Parsing file: /scratch/zzhang30/cs420/data/ivyClass/ant/IvyMakePom/Dependency.json\n",
      "Parsing file: /scratch/zzhang30/cs420/data/ivyClass/ant/IvyMakePom/IvyMakePom.json\n",
      "Parsing file: /scratch/zzhang30/cs420/data/ivyClass/ant/IvyBuildList/OnMissingDescriptor.json\n",
      "Parsing file: /scratch/zzhang30/cs420/data/ivyClass/ant/IvyBuildList/IvyBuildList.json\n",
      "Parsing file: /scratch/zzhang30/cs420/data/ivyClass/ant/IvyBuildList/BuildListModule.json\n",
      "Parsing file: /scratch/zzhang30/cs420/data/ivyClass/ant/IvyListModules/IvyListModules.json\n",
      "Parsing file: /scratch/zzhang30/cs420/data/ivyClass/ant/IvyDeliver/DeliverDRResolver.json\n",
      "Parsing file: /scratch/zzhang30/cs420/data/ivyClass/ant/IvyDeliver/IvyDeliver.json\n",
      "Parsing file: /scratch/zzhang30/cs420/data/ivyClass/ant/IvyAntSettings/IvyAntSettings.json\n",
      "Parsing file: /scratch/zzhang30/cs420/data/ivyClass/ant/IvyAntSettings/Credentials.json\n",
      "Parsing file: /scratch/zzhang30/cs420/data/ivyClass/ant/IvyRetrieve/IvyRetrieve.json\n",
      "Parsing file: /scratch/zzhang30/cs420/data/ivyClass/ant/IvyDependency/IvyDependency.json\n",
      "Parsing file: /scratch/zzhang30/cs420/data/ivyClass/ant/IvyDependencyConf/IvyDependencyConf.json\n",
      "Parsing file: /scratch/zzhang30/cs420/data/ivyClass/ant/IvyDependencyConf/IvyDependencyConfMapped.json\n",
      "Extracted point cloud contains 140 points\n",
      "extract_embeddings executed in 0.0616 seconds\n"
     ]
    }
   ],
   "source": [
    "# Step 1: Extract embeddings\n",
    "embeddings = time_execution(extract_embeddings, paths=paths)\n",
    "\n",
    "\n"
   ]
  },
  {
   "cell_type": "code",
   "execution_count": 4,
   "metadata": {},
   "outputs": [
    {
     "data": {
      "text/plain": [
       "array([[ 0.99005473,  3.47771835,  1.3027997 , ...,  0.22184664,\n",
       "        -1.91226113, -0.74508166],\n",
       "       [-1.41541433,  1.41792715, -0.87390977, ..., -0.37223542,\n",
       "         0.0095014 , -1.06853938],\n",
       "       [ 0.43395433,  0.80100745,  1.02711046, ..., -0.22605343,\n",
       "        -2.34333611,  1.50433528],\n",
       "       ...,\n",
       "       [ 0.9279229 ,  1.80230057,  0.78469795, ..., -0.12794682,\n",
       "        -1.2411015 , -0.06914413],\n",
       "       [ 2.87480283,  1.33663321, -0.46528059, ...,  0.12858815,\n",
       "        -1.64123893,  0.11596291],\n",
       "       [ 2.03484917,  2.21022415,  0.0387735 , ..., -0.30921596,\n",
       "        -0.00561002,  0.21864565]])"
      ]
     },
     "execution_count": 4,
     "metadata": {},
     "output_type": "execute_result"
    }
   ],
   "source": [
    "embeddings"
   ]
  },
  {
   "cell_type": "code",
   "execution_count": 4,
   "metadata": {},
   "outputs": [
    {
     "name": "stdout",
     "output_type": "stream",
     "text": [
      "Rips complex: dimension 2, simplices 307874, vertices 140\n",
      "build_rips_complex executed in 0.0261 seconds\n"
     ]
    }
   ],
   "source": [
    "\n",
    "\n",
    "# Step 2: Build the Rips complex\n",
    "simplex_tree = time_execution(build_rips_complex, embeddings, max_edge, max_dim=max_dim, verbose=True)\n",
    "\n"
   ]
  },
  {
   "cell_type": "code",
   "execution_count": 6,
   "metadata": {},
   "outputs": [
    {
     "data": {
      "text/plain": [
       "<gudhi.simplex_tree.SimplexTree at 0x7f7e4c339a40>"
      ]
     },
     "execution_count": 6,
     "metadata": {},
     "output_type": "execute_result"
    }
   ],
   "source": [
    "simplex_tree"
   ]
  },
  {
   "cell_type": "code",
   "execution_count": 9,
   "metadata": {},
   "outputs": [],
   "source": [
    "def betti_curves_from_simplex_tree(st, I, dim=3):\n",
    "    '''\n",
    "    Computes the Betti curves of the given simplex tree\n",
    "\n",
    "    Input:\n",
    "        st: a simplex tree\n",
    "        I: interval over which to calculate the Betti curves\n",
    "        dim: maximal dimension to compute the Betti curves.\n",
    "\n",
    "    Returns:\n",
    "        BettiCurves: array representing the Betti curves\n",
    "    '''\n",
    "    st.persistence(persistence_dim_max=True, homology_coeff_field = 2)\n",
    "    Diagrams = [st.persistence_intervals_in_dimension(i) for i in range(dim+1)]\n",
    "    BettiCurves = []\n",
    "    step_x = I[1]-I[0]\n",
    "    for diagram in Diagrams:\n",
    "        bc =  np.zeros(len(I))\n",
    "        if diagram.size != 0:\n",
    "            diagram_int = np.clip(np.ceil((diagram[:,:2] - I[0]) / step_x), 0, len(I)).astype(int)\n",
    "            for interval in diagram_int:\n",
    "                bc[interval[0]:interval[1]] += 1\n",
    "        BettiCurves.append(np.reshape(bc,[1,-1]))\n",
    "    return np.reshape(BettiCurves, (dim+1, len(I)))"
   ]
  },
  {
   "cell_type": "code",
   "execution_count": 5,
   "metadata": {},
   "outputs": [
    {
     "ename": "NameError",
     "evalue": "name 'betti_curves_from_simplex_tree' is not defined",
     "output_type": "error",
     "traceback": [
      "\u001b[0;31m---------------------------------------------------------------------------\u001b[0m",
      "\u001b[0;31mNameError\u001b[0m                                 Traceback (most recent call last)",
      "Cell \u001b[0;32mIn[5], line 2\u001b[0m\n\u001b[1;32m      1\u001b[0m I \u001b[38;5;241m=\u001b[39m \u001b[38;5;241m50\u001b[39m \u001b[38;5;241m*\u001b[39m np\u001b[38;5;241m.\u001b[39mlinspace(\u001b[38;5;241m0\u001b[39m,\u001b[38;5;241m1\u001b[39m,\u001b[38;5;241m100\u001b[39m)\n\u001b[0;32m----> 2\u001b[0m Betti_curves \u001b[38;5;241m=\u001b[39m \u001b[43mbetti_curves_from_simplex_tree\u001b[49m(simplex_tree, I)\n\u001b[1;32m      4\u001b[0m \u001b[38;5;66;03m# # Save betti curves to an image\u001b[39;00m\n\u001b[1;32m      5\u001b[0m \u001b[38;5;66;03m# fig = plt.figure(figsize=(15,5))\u001b[39;00m\n\u001b[1;32m      6\u001b[0m \u001b[38;5;66;03m# ax1 = fig.add_subplot(1,3,1); ax2 = fig.add_subplot(1,3,2); ax3 = fig.add_subplot(1,3,3)\u001b[39;00m\n\u001b[0;32m   (...)\u001b[0m\n\u001b[1;32m      9\u001b[0m \u001b[38;5;66;03m# ax3.step(I, Betti_curves[2])\u001b[39;00m\n\u001b[1;32m     10\u001b[0m \u001b[38;5;66;03m# plt.show()\u001b[39;00m\n",
      "\u001b[0;31mNameError\u001b[0m: name 'betti_curves_from_simplex_tree' is not defined"
     ]
    }
   ],
   "source": [
    " I = 50 * np.linspace(0,1,100)\n",
    "Betti_curves = betti_curves_from_simplex_tree(simplex_tree, I)\n",
    "\n",
    "# # Save betti curves to an image\n",
    "# fig = plt.figure(figsize=(15,5))\n",
    "# ax1 = fig.add_subplot(1,3,1); ax2 = fig.add_subplot(1,3,2); ax3 = fig.add_subplot(1,3,3)\n",
    "# ax1.step(I, Betti_curves[0])\n",
    "# ax2.step(I, Betti_curves[1])\n",
    "# ax3.step(I, Betti_curves[2])\n",
    "# plt.show()\n"
   ]
  },
  {
   "cell_type": "code",
   "execution_count": 11,
   "metadata": {},
   "outputs": [
    {
     "data": {
      "text/plain": [
       "array([[7.00000e+01, 7.00000e+01, 7.00000e+01, 7.00000e+01, 7.00000e+01,\n",
       "        7.00000e+01, 7.00000e+01, 7.00000e+01, 7.00000e+01, 7.00000e+01,\n",
       "        7.00000e+01, 6.90000e+01, 6.90000e+01, 6.90000e+01, 6.90000e+01,\n",
       "        6.90000e+01, 6.80000e+01, 6.80000e+01, 6.80000e+01, 6.80000e+01,\n",
       "        6.80000e+01, 6.80000e+01, 6.80000e+01, 6.80000e+01, 6.80000e+01,\n",
       "        6.80000e+01, 6.80000e+01, 6.80000e+01, 6.80000e+01, 6.80000e+01,\n",
       "        6.80000e+01, 6.80000e+01, 6.70000e+01, 6.70000e+01, 6.70000e+01,\n",
       "        6.70000e+01, 6.50000e+01, 6.40000e+01, 6.40000e+01, 6.20000e+01,\n",
       "        6.00000e+01, 5.90000e+01, 5.80000e+01, 5.70000e+01, 5.40000e+01,\n",
       "        5.00000e+01, 4.70000e+01, 4.50000e+01, 4.30000e+01, 4.00000e+01,\n",
       "        3.80000e+01, 3.60000e+01, 3.30000e+01, 2.90000e+01, 2.70000e+01,\n",
       "        2.40000e+01, 2.30000e+01, 2.30000e+01, 2.30000e+01, 2.30000e+01,\n",
       "        2.20000e+01, 2.10000e+01, 2.00000e+01, 2.00000e+01, 1.80000e+01,\n",
       "        1.80000e+01, 1.80000e+01, 1.80000e+01, 1.70000e+01, 1.60000e+01,\n",
       "        1.30000e+01, 1.30000e+01, 1.10000e+01, 1.00000e+01, 1.00000e+01,\n",
       "        9.00000e+00, 9.00000e+00, 8.00000e+00, 8.00000e+00, 8.00000e+00,\n",
       "        7.00000e+00, 7.00000e+00, 7.00000e+00, 7.00000e+00, 5.00000e+00,\n",
       "        4.00000e+00, 4.00000e+00, 3.00000e+00, 3.00000e+00, 3.00000e+00,\n",
       "        3.00000e+00, 3.00000e+00, 3.00000e+00, 2.00000e+00, 2.00000e+00,\n",
       "        2.00000e+00, 2.00000e+00, 2.00000e+00, 2.00000e+00, 2.00000e+00],\n",
       "       [0.00000e+00, 0.00000e+00, 0.00000e+00, 0.00000e+00, 0.00000e+00,\n",
       "        0.00000e+00, 0.00000e+00, 0.00000e+00, 0.00000e+00, 0.00000e+00,\n",
       "        0.00000e+00, 0.00000e+00, 0.00000e+00, 0.00000e+00, 0.00000e+00,\n",
       "        0.00000e+00, 0.00000e+00, 0.00000e+00, 0.00000e+00, 0.00000e+00,\n",
       "        0.00000e+00, 0.00000e+00, 0.00000e+00, 0.00000e+00, 0.00000e+00,\n",
       "        0.00000e+00, 0.00000e+00, 0.00000e+00, 0.00000e+00, 0.00000e+00,\n",
       "        0.00000e+00, 0.00000e+00, 0.00000e+00, 0.00000e+00, 0.00000e+00,\n",
       "        0.00000e+00, 0.00000e+00, 0.00000e+00, 0.00000e+00, 0.00000e+00,\n",
       "        0.00000e+00, 0.00000e+00, 0.00000e+00, 0.00000e+00, 0.00000e+00,\n",
       "        0.00000e+00, 0.00000e+00, 0.00000e+00, 1.00000e+00, 2.00000e+00,\n",
       "        2.00000e+00, 1.00000e+00, 0.00000e+00, 1.00000e+00, 1.00000e+00,\n",
       "        2.00000e+00, 3.00000e+00, 2.00000e+00, 1.00000e+00, 0.00000e+00,\n",
       "        0.00000e+00, 1.00000e+00, 2.00000e+00, 1.00000e+00, 0.00000e+00,\n",
       "        0.00000e+00, 0.00000e+00, 0.00000e+00, 0.00000e+00, 0.00000e+00,\n",
       "        0.00000e+00, 0.00000e+00, 0.00000e+00, 0.00000e+00, 0.00000e+00,\n",
       "        0.00000e+00, 0.00000e+00, 0.00000e+00, 0.00000e+00, 0.00000e+00,\n",
       "        0.00000e+00, 0.00000e+00, 0.00000e+00, 0.00000e+00, 0.00000e+00,\n",
       "        0.00000e+00, 0.00000e+00, 0.00000e+00, 0.00000e+00, 0.00000e+00,\n",
       "        0.00000e+00, 0.00000e+00, 0.00000e+00, 0.00000e+00, 0.00000e+00,\n",
       "        0.00000e+00, 0.00000e+00, 0.00000e+00, 0.00000e+00, 0.00000e+00],\n",
       "       [0.00000e+00, 0.00000e+00, 0.00000e+00, 0.00000e+00, 0.00000e+00,\n",
       "        0.00000e+00, 0.00000e+00, 0.00000e+00, 0.00000e+00, 0.00000e+00,\n",
       "        0.00000e+00, 1.00000e+00, 1.00000e+00, 1.00000e+00, 1.00000e+00,\n",
       "        1.00000e+00, 2.00000e+00, 2.00000e+00, 2.00000e+00, 2.00000e+00,\n",
       "        2.00000e+00, 2.00000e+00, 2.00000e+00, 2.00000e+00, 2.00000e+00,\n",
       "        2.00000e+00, 2.00000e+00, 2.00000e+00, 2.00000e+00, 2.00000e+00,\n",
       "        2.00000e+00, 2.00000e+00, 3.00000e+00, 3.00000e+00, 3.00000e+00,\n",
       "        3.00000e+00, 5.00000e+00, 6.00000e+00, 6.00000e+00, 8.00000e+00,\n",
       "        1.00000e+01, 1.90000e+01, 2.00000e+01, 2.10000e+01, 4.80000e+01,\n",
       "        6.80000e+01, 1.03000e+02, 1.45000e+02, 2.12000e+02, 2.56000e+02,\n",
       "        3.62000e+02, 6.03000e+02, 9.89000e+02, 1.59400e+03, 1.90000e+03,\n",
       "        2.34400e+03, 3.00200e+03, 3.82500e+03, 5.67200e+03, 7.24700e+03,\n",
       "        8.88000e+03, 1.15860e+04, 1.41640e+04, 1.74030e+04, 2.25560e+04,\n",
       "        2.81960e+04, 3.27640e+04, 3.83560e+04, 4.63330e+04, 5.41260e+04,\n",
       "        6.38650e+04, 7.59930e+04, 8.83310e+04, 9.68280e+04, 1.05676e+05,\n",
       "        1.16637e+05, 1.23405e+05, 1.32598e+05, 1.39470e+05, 1.45758e+05,\n",
       "        1.50127e+05, 1.56367e+05, 1.64655e+05, 1.70991e+05, 1.76097e+05,\n",
       "        1.81194e+05, 1.84858e+05, 1.88931e+05, 1.97827e+05, 2.03187e+05,\n",
       "        2.11427e+05, 2.18347e+05, 2.28043e+05, 2.35828e+05, 2.43692e+05,\n",
       "        2.52452e+05, 2.61780e+05, 2.72548e+05, 2.80540e+05, 2.92148e+05],\n",
       "       [0.00000e+00, 0.00000e+00, 0.00000e+00, 0.00000e+00, 0.00000e+00,\n",
       "        0.00000e+00, 0.00000e+00, 0.00000e+00, 0.00000e+00, 0.00000e+00,\n",
       "        0.00000e+00, 0.00000e+00, 0.00000e+00, 0.00000e+00, 0.00000e+00,\n",
       "        0.00000e+00, 0.00000e+00, 0.00000e+00, 0.00000e+00, 0.00000e+00,\n",
       "        0.00000e+00, 0.00000e+00, 0.00000e+00, 0.00000e+00, 0.00000e+00,\n",
       "        0.00000e+00, 0.00000e+00, 0.00000e+00, 0.00000e+00, 0.00000e+00,\n",
       "        0.00000e+00, 0.00000e+00, 0.00000e+00, 0.00000e+00, 0.00000e+00,\n",
       "        0.00000e+00, 0.00000e+00, 0.00000e+00, 0.00000e+00, 0.00000e+00,\n",
       "        0.00000e+00, 0.00000e+00, 0.00000e+00, 0.00000e+00, 0.00000e+00,\n",
       "        0.00000e+00, 0.00000e+00, 0.00000e+00, 0.00000e+00, 0.00000e+00,\n",
       "        0.00000e+00, 0.00000e+00, 0.00000e+00, 0.00000e+00, 0.00000e+00,\n",
       "        0.00000e+00, 0.00000e+00, 0.00000e+00, 0.00000e+00, 0.00000e+00,\n",
       "        0.00000e+00, 0.00000e+00, 0.00000e+00, 0.00000e+00, 0.00000e+00,\n",
       "        0.00000e+00, 0.00000e+00, 0.00000e+00, 0.00000e+00, 0.00000e+00,\n",
       "        0.00000e+00, 0.00000e+00, 0.00000e+00, 0.00000e+00, 0.00000e+00,\n",
       "        0.00000e+00, 0.00000e+00, 0.00000e+00, 0.00000e+00, 0.00000e+00,\n",
       "        0.00000e+00, 0.00000e+00, 0.00000e+00, 0.00000e+00, 0.00000e+00,\n",
       "        0.00000e+00, 0.00000e+00, 0.00000e+00, 0.00000e+00, 0.00000e+00,\n",
       "        0.00000e+00, 0.00000e+00, 0.00000e+00, 0.00000e+00, 0.00000e+00,\n",
       "        0.00000e+00, 0.00000e+00, 0.00000e+00, 0.00000e+00, 0.00000e+00]])"
      ]
     },
     "execution_count": 11,
     "metadata": {},
     "output_type": "execute_result"
    }
   ],
   "source": [
    "Betti_curves"
   ]
  },
  {
   "cell_type": "code",
   "execution_count": null,
   "metadata": {},
   "outputs": [],
   "source": [
    "    ''' Plot and save barcode and persistence diagram:'''\n",
    "    barcode = simplex_tree.persistence(homology_coeff_field = 2)\n",
    "    fig = plt.figure(figsize=(15,5))\n",
    "    ax1 = fig.add_subplot(1,2,1); ax2 = fig.add_subplot(1,2,2)\n",
    "    gudhi.plot_persistence_barcode(barcode, axes = ax1)\n",
    "    gudhi.plot_persistence_diagram(barcode, axes = ax2)\n",
    "\n"
   ]
  },
  {
   "cell_type": "code",
   "execution_count": null,
   "metadata": {},
   "outputs": [],
   "source": []
  },
  {
   "cell_type": "code",
   "execution_count": 6,
   "metadata": {},
   "outputs": [
    {
     "name": "stdout",
     "output_type": "stream",
     "text": [
      "calculate_betti_curves executed in 1.5814 seconds\n"
     ]
    }
   ],
   "source": [
    "interval = 50 * np.linspace(0, 1, 100)\n",
    "betti_curves = time_execution(calculate_betti_curves, simplex_tree, interval, max_dim=max_dim)"
   ]
  },
  {
   "cell_type": "code",
   "execution_count": 7,
   "metadata": {},
   "outputs": [
    {
     "data": {
      "text/plain": [
       "array([[7.00000e+01, 7.00000e+01, 7.00000e+01, 7.00000e+01, 7.00000e+01,\n",
       "        7.00000e+01, 7.00000e+01, 7.00000e+01, 7.00000e+01, 7.00000e+01,\n",
       "        7.00000e+01, 6.90000e+01, 6.90000e+01, 6.90000e+01, 6.90000e+01,\n",
       "        6.90000e+01, 6.80000e+01, 6.80000e+01, 6.80000e+01, 6.80000e+01,\n",
       "        6.80000e+01, 6.80000e+01, 6.80000e+01, 6.80000e+01, 6.80000e+01,\n",
       "        6.80000e+01, 6.80000e+01, 6.80000e+01, 6.80000e+01, 6.80000e+01,\n",
       "        6.80000e+01, 6.80000e+01, 6.70000e+01, 6.70000e+01, 6.70000e+01,\n",
       "        6.70000e+01, 6.50000e+01, 6.40000e+01, 6.40000e+01, 6.20000e+01,\n",
       "        6.00000e+01, 5.90000e+01, 5.80000e+01, 5.70000e+01, 5.40000e+01,\n",
       "        5.00000e+01, 4.70000e+01, 4.50000e+01, 4.30000e+01, 4.00000e+01,\n",
       "        3.80000e+01, 3.60000e+01, 3.30000e+01, 2.90000e+01, 2.70000e+01,\n",
       "        2.40000e+01, 2.30000e+01, 2.30000e+01, 2.30000e+01, 2.30000e+01,\n",
       "        2.20000e+01, 2.10000e+01, 2.00000e+01, 2.00000e+01, 1.80000e+01,\n",
       "        1.80000e+01, 1.80000e+01, 1.80000e+01, 1.70000e+01, 1.60000e+01,\n",
       "        1.30000e+01, 1.30000e+01, 1.10000e+01, 1.00000e+01, 1.00000e+01,\n",
       "        9.00000e+00, 9.00000e+00, 8.00000e+00, 8.00000e+00, 8.00000e+00,\n",
       "        7.00000e+00, 7.00000e+00, 7.00000e+00, 7.00000e+00, 5.00000e+00,\n",
       "        4.00000e+00, 4.00000e+00, 3.00000e+00, 3.00000e+00, 3.00000e+00,\n",
       "        3.00000e+00, 3.00000e+00, 3.00000e+00, 2.00000e+00, 2.00000e+00,\n",
       "        2.00000e+00, 2.00000e+00, 2.00000e+00, 2.00000e+00, 2.00000e+00],\n",
       "       [0.00000e+00, 0.00000e+00, 0.00000e+00, 0.00000e+00, 0.00000e+00,\n",
       "        0.00000e+00, 0.00000e+00, 0.00000e+00, 0.00000e+00, 0.00000e+00,\n",
       "        0.00000e+00, 0.00000e+00, 0.00000e+00, 0.00000e+00, 0.00000e+00,\n",
       "        0.00000e+00, 0.00000e+00, 0.00000e+00, 0.00000e+00, 0.00000e+00,\n",
       "        0.00000e+00, 0.00000e+00, 0.00000e+00, 0.00000e+00, 0.00000e+00,\n",
       "        0.00000e+00, 0.00000e+00, 0.00000e+00, 0.00000e+00, 0.00000e+00,\n",
       "        0.00000e+00, 0.00000e+00, 0.00000e+00, 0.00000e+00, 0.00000e+00,\n",
       "        0.00000e+00, 0.00000e+00, 0.00000e+00, 0.00000e+00, 0.00000e+00,\n",
       "        0.00000e+00, 0.00000e+00, 0.00000e+00, 0.00000e+00, 0.00000e+00,\n",
       "        0.00000e+00, 0.00000e+00, 0.00000e+00, 1.00000e+00, 2.00000e+00,\n",
       "        2.00000e+00, 1.00000e+00, 0.00000e+00, 1.00000e+00, 1.00000e+00,\n",
       "        2.00000e+00, 3.00000e+00, 2.00000e+00, 1.00000e+00, 0.00000e+00,\n",
       "        0.00000e+00, 1.00000e+00, 2.00000e+00, 1.00000e+00, 0.00000e+00,\n",
       "        0.00000e+00, 0.00000e+00, 0.00000e+00, 0.00000e+00, 0.00000e+00,\n",
       "        0.00000e+00, 0.00000e+00, 0.00000e+00, 0.00000e+00, 0.00000e+00,\n",
       "        0.00000e+00, 0.00000e+00, 0.00000e+00, 0.00000e+00, 0.00000e+00,\n",
       "        0.00000e+00, 0.00000e+00, 0.00000e+00, 0.00000e+00, 0.00000e+00,\n",
       "        0.00000e+00, 0.00000e+00, 0.00000e+00, 0.00000e+00, 0.00000e+00,\n",
       "        0.00000e+00, 0.00000e+00, 0.00000e+00, 0.00000e+00, 0.00000e+00,\n",
       "        0.00000e+00, 0.00000e+00, 0.00000e+00, 0.00000e+00, 0.00000e+00],\n",
       "       [0.00000e+00, 0.00000e+00, 0.00000e+00, 0.00000e+00, 0.00000e+00,\n",
       "        0.00000e+00, 0.00000e+00, 0.00000e+00, 0.00000e+00, 0.00000e+00,\n",
       "        0.00000e+00, 1.00000e+00, 1.00000e+00, 1.00000e+00, 1.00000e+00,\n",
       "        1.00000e+00, 2.00000e+00, 2.00000e+00, 2.00000e+00, 2.00000e+00,\n",
       "        2.00000e+00, 2.00000e+00, 2.00000e+00, 2.00000e+00, 2.00000e+00,\n",
       "        2.00000e+00, 2.00000e+00, 2.00000e+00, 2.00000e+00, 2.00000e+00,\n",
       "        2.00000e+00, 2.00000e+00, 3.00000e+00, 3.00000e+00, 3.00000e+00,\n",
       "        3.00000e+00, 5.00000e+00, 6.00000e+00, 6.00000e+00, 8.00000e+00,\n",
       "        1.00000e+01, 1.90000e+01, 2.00000e+01, 2.10000e+01, 4.80000e+01,\n",
       "        6.80000e+01, 1.03000e+02, 1.45000e+02, 2.12000e+02, 2.56000e+02,\n",
       "        3.62000e+02, 6.03000e+02, 9.89000e+02, 1.59400e+03, 1.90000e+03,\n",
       "        2.34400e+03, 3.00200e+03, 3.82500e+03, 5.67200e+03, 7.24700e+03,\n",
       "        8.88000e+03, 1.15860e+04, 1.41640e+04, 1.74030e+04, 2.25560e+04,\n",
       "        2.81960e+04, 3.27640e+04, 3.83560e+04, 4.63330e+04, 5.41260e+04,\n",
       "        6.38650e+04, 7.59930e+04, 8.83310e+04, 9.68280e+04, 1.05676e+05,\n",
       "        1.16637e+05, 1.23405e+05, 1.32598e+05, 1.39470e+05, 1.45758e+05,\n",
       "        1.50127e+05, 1.56367e+05, 1.64655e+05, 1.70991e+05, 1.76097e+05,\n",
       "        1.81194e+05, 1.84858e+05, 1.88931e+05, 1.97827e+05, 2.03187e+05,\n",
       "        2.11427e+05, 2.18347e+05, 2.28043e+05, 2.35828e+05, 2.43692e+05,\n",
       "        2.52452e+05, 2.61780e+05, 2.72548e+05, 2.80540e+05, 2.92148e+05]])"
      ]
     },
     "execution_count": 7,
     "metadata": {},
     "output_type": "execute_result"
    }
   ],
   "source": [
    "betti_curves"
   ]
  },
  {
   "cell_type": "code",
   "execution_count": 8,
   "metadata": {},
   "outputs": [
    {
     "name": "stdout",
     "output_type": "stream",
     "text": [
      "Saved Betti curves to /scratch/zzhang30/cs420/figure/ivy_main_class_betti_curves.png\n"
     ]
    },
    {
     "data": {
      "image/png": "[encoded data removed]",
      "text/plain": [
       "<Figure size 1500x500 with 3 Axes>"
      ]
     },
     "metadata": {},
     "output_type": "display_data"
    }
   ],
   "source": [
    "visualize_betti_curves(betti_curves, interval, output_name=\"ivy_main_class_betti_curves\")"
   ]
  },
  {
   "cell_type": "code",
   "execution_count": null,
   "metadata": {},
   "outputs": [],
   "source": []
  }
 ],
 "metadata": {
  "kernelspec": {
   "display_name": "Python (tda)",
   "language": "python",
   "name": "tda"
  },
  "language_info": {
   "codemirror_mode": {
    "name": "ipython",
    "version": 3
   },
   "file_extension": ".py",
   "mimetype": "text/x-python",
   "name": "python",
   "nbconvert_exporter": "python",
   "pygments_lexer": "ipython3",
   "version": "3.10.4"
  }
 },
 "nbformat": 4,
 "nbformat_minor": 4
}
